{
 "cells": [
  {
   "cell_type": "markdown",
   "metadata": {},
   "source": [
    "### <font color='red'> Project 3 : Buzz Prediction on Twitter\n",
    "\n",
    "Project Description:\n",
    "- Use same datasets as Project 2.\n",
    "- Run all the models only on 10% data. Use code given in Project 2 for sampling.\n",
    "- Preprocess data: Explore data and apply data scaling.\n",
    "\n",
    "Regression Task:\n",
    "- Apply any two models with bagging and any two models with pasting.\n",
    "- Apply any two models with adaboost boosting\n",
    "- Apply one model with gradient boosting\n",
    "- Apply PCA on data and then apply all the models in project 2 again on data you get from PCA. Compare your results with results in project 2. You don't need to apply all the models twice. Just copy the result table from project 2, prepare similar table for all the models after PCA and compare both tables. Does PCA help in getting better results?\n",
    "- Apply deep learning models covered in class\n",
    "\n",
    "Classification Task:\n",
    "- Apply four voting classifiers - two with hard voting and two with soft voting\n",
    "- Apply any two models with bagging and any two models with pasting.\n",
    "- Apply any two models with adaboost boosting\n",
    "- Apply one model with gradient boosting\n",
    "- Apply PCA on data and then apply all the models in project 2 again on data you get from PCA. Compare your results with results in project 2. You don't need to apply all the models twice. Just copy the result table from project 2, prepare similar table for all the models after PCA and compare both tables. Does PCA help in getting better results?\n",
    "- Apply deep learning models covered in class\n",
    "\n",
    "Deliverables:\n",
    "- Use markdown to provide inline comments for this project.\n",
    "- Your outputs should be clearly executed in the notebook i.e. we should not need to rerun the code to obtain the outputs.\n",
    "- Visualization encouraged.\n",
    "- If you are submitting two different files, then please only one group member submit both the files. If you submit two files separately from different accounts, it will be submitted as two different attempts.\n",
    "- If you are submitting two different files, then please follow below naming convetion:\n",
    "    Project3_Regression_GroupXX_Firstname1_Firstname2.ipynb\n",
    "    Project3_Classification_GroupXX_Firstname1_Firstname2.ipynb\n",
    "- If you are submitting single file, then please follow below naming convetion:\n",
    "    Project3_Both_GroupXX_Firstname1_Firstname2.ipynb\n",
    "\n",
    "Questions regarding the project:\n",
    "- We have created a discussion board under Projects folder on e-learning. Create threads over there and post your queries related to project there.\n",
    "- We will also answer queries there. We will not be answering any project related queries through the mail."
   ]
  },
  {
   "cell_type": "code",
   "execution_count": 1,
   "metadata": {},
   "outputs": [],
   "source": [
    "import numpy as np\n",
    "import pandas as pd\n",
    "import matplotlib.pyplot as plt\n",
    "import seaborn as sns\n",
    "#import mglearn\n",
    "%matplotlib inline\n",
    "n_jobs=16"
   ]
  },
  {
   "cell_type": "code",
   "execution_count": 5,
   "metadata": {},
   "outputs": [],
   "source": [
    "data = pd.read_csv('Twitter.data',header = None)"
   ]
  },
  {
   "cell_type": "code",
   "execution_count": 6,
   "metadata": {},
   "outputs": [],
   "source": [
    "data.columns = ['NCD_0','NCD_1','NCD_2','NCD_3','NCD_4','NCD_5','NCD_6','AI_0','AI_1','AI_2','AI_3','AI_4','AI_5','AI_6',\n",
    "               'AS(NA)_0','AS(NA)_1','AS(NA)_2','AS(NA)_3','AS(NA)_4','AS(NA)_5','AS(NA)_6','BL_0','BL_1','BL_2','BL_3',\n",
    "                'BL_4','BL_5','BL_6','NAC_0','NAC_1','NAC_2','NAC_3','NAC_4','NAC_5','NAC_6','AS(NAC)_0','AS(NAC)_1',\n",
    "               'AS(NAC)_2','AS(NAC)_3','AS(NAC)_4','AS(NAC)_5','AS(NAC)_6','CS_0','CS_1','CS_2','CS_3','CS_4','CS_5','CS_6',\n",
    "               'AT_0','AT_1','AT_2','AT_3','AT_4','AT_5','AT_6','NA_0','NA_1','NA_2','NA_3','NA_4','NA_5','NA_6','ADL_0',\n",
    "               'ADL_1','ADL_2','ADL_3','ADL_4','ADL_5','ADL_6','NAD_0','NAD_1','NAD_2','NAD_3','NAD_4','NAD_5','NAD_6','Target']"
   ]
  },
  {
   "cell_type": "code",
   "execution_count": 7,
   "metadata": {
    "scrolled": true
   },
   "outputs": [
    {
     "name": "stdout",
     "output_type": "stream",
     "text": [
      "<class 'pandas.core.frame.DataFrame'>\n",
      "RangeIndex: 583250 entries, 0 to 583249\n",
      "Data columns (total 78 columns):\n",
      "NCD_0        583250 non-null int64\n",
      "NCD_1        583250 non-null int64\n",
      "NCD_2        583250 non-null int64\n",
      "NCD_3        583250 non-null int64\n",
      "NCD_4        583250 non-null int64\n",
      "NCD_5        583250 non-null int64\n",
      "NCD_6        583250 non-null int64\n",
      "AI_0         583250 non-null int64\n",
      "AI_1         583250 non-null int64\n",
      "AI_2         583250 non-null int64\n",
      "AI_3         583250 non-null int64\n",
      "AI_4         583250 non-null int64\n",
      "AI_5         583250 non-null int64\n",
      "AI_6         583250 non-null int64\n",
      "AS(NA)_0     583250 non-null float64\n",
      "AS(NA)_1     583250 non-null float64\n",
      "AS(NA)_2     583250 non-null float64\n",
      "AS(NA)_3     583250 non-null float64\n",
      "AS(NA)_4     583250 non-null float64\n",
      "AS(NA)_5     583250 non-null float64\n",
      "AS(NA)_6     583250 non-null float64\n",
      "BL_0         583250 non-null float64\n",
      "BL_1         583250 non-null float64\n",
      "BL_2         583250 non-null float64\n",
      "BL_3         583250 non-null float64\n",
      "BL_4         583250 non-null float64\n",
      "BL_5         583250 non-null float64\n",
      "BL_6         583250 non-null float64\n",
      "NAC_0        583250 non-null int64\n",
      "NAC_1        583250 non-null int64\n",
      "NAC_2        583250 non-null int64\n",
      "NAC_3        583250 non-null int64\n",
      "NAC_4        583250 non-null int64\n",
      "NAC_5        583250 non-null int64\n",
      "NAC_6        583250 non-null int64\n",
      "AS(NAC)_0    583250 non-null float64\n",
      "AS(NAC)_1    583250 non-null float64\n",
      "AS(NAC)_2    583250 non-null float64\n",
      "AS(NAC)_3    583250 non-null float64\n",
      "AS(NAC)_4    583250 non-null float64\n",
      "AS(NAC)_5    583250 non-null float64\n",
      "AS(NAC)_6    583250 non-null float64\n",
      "CS_0         583250 non-null float64\n",
      "CS_1         583250 non-null float64\n",
      "CS_2         583250 non-null float64\n",
      "CS_3         583250 non-null float64\n",
      "CS_4         583250 non-null float64\n",
      "CS_5         583250 non-null float64\n",
      "CS_6         583250 non-null float64\n",
      "AT_0         583250 non-null float64\n",
      "AT_1         583250 non-null float64\n",
      "AT_2         583250 non-null float64\n",
      "AT_3         583250 non-null float64\n",
      "AT_4         583250 non-null float64\n",
      "AT_5         583250 non-null float64\n",
      "AT_6         583250 non-null float64\n",
      "NA_0         583250 non-null int64\n",
      "NA_1         583250 non-null int64\n",
      "NA_2         583250 non-null int64\n",
      "NA_3         583250 non-null int64\n",
      "NA_4         583250 non-null int64\n",
      "NA_5         583250 non-null int64\n",
      "NA_6         583250 non-null int64\n",
      "ADL_0        583250 non-null float64\n",
      "ADL_1        583250 non-null float64\n",
      "ADL_2        583250 non-null float64\n",
      "ADL_3        583250 non-null float64\n",
      "ADL_4        583250 non-null float64\n",
      "ADL_5        583250 non-null float64\n",
      "ADL_6        583250 non-null float64\n",
      "NAD_0        583250 non-null int64\n",
      "NAD_1        583250 non-null int64\n",
      "NAD_2        583250 non-null int64\n",
      "NAD_3        583250 non-null int64\n",
      "NAD_4        583250 non-null int64\n",
      "NAD_5        583250 non-null int64\n",
      "NAD_6        583250 non-null int64\n",
      "Target       583250 non-null float64\n",
      "dtypes: float64(43), int64(35)\n",
      "memory usage: 347.1 MB\n"
     ]
    }
   ],
   "source": [
    "data.info()"
   ]
  },
  {
   "cell_type": "code",
   "execution_count": 8,
   "metadata": {},
   "outputs": [
    {
     "data": {
      "text/plain": [
       "NCD_0       0\n",
       "NCD_1       0\n",
       "NCD_2       0\n",
       "NCD_3       0\n",
       "NCD_4       0\n",
       "NCD_5       0\n",
       "NCD_6       0\n",
       "AI_0        0\n",
       "AI_1        0\n",
       "AI_2        0\n",
       "AI_3        0\n",
       "AI_4        0\n",
       "AI_5        0\n",
       "AI_6        0\n",
       "AS(NA)_0    0\n",
       "AS(NA)_1    0\n",
       "AS(NA)_2    0\n",
       "AS(NA)_3    0\n",
       "AS(NA)_4    0\n",
       "AS(NA)_5    0\n",
       "AS(NA)_6    0\n",
       "BL_0        0\n",
       "BL_1        0\n",
       "BL_2        0\n",
       "BL_3        0\n",
       "BL_4        0\n",
       "BL_5        0\n",
       "BL_6        0\n",
       "NAC_0       0\n",
       "NAC_1       0\n",
       "           ..\n",
       "CS_6        0\n",
       "AT_0        0\n",
       "AT_1        0\n",
       "AT_2        0\n",
       "AT_3        0\n",
       "AT_4        0\n",
       "AT_5        0\n",
       "AT_6        0\n",
       "NA_0        0\n",
       "NA_1        0\n",
       "NA_2        0\n",
       "NA_3        0\n",
       "NA_4        0\n",
       "NA_5        0\n",
       "NA_6        0\n",
       "ADL_0       0\n",
       "ADL_1       0\n",
       "ADL_2       0\n",
       "ADL_3       0\n",
       "ADL_4       0\n",
       "ADL_5       0\n",
       "ADL_6       0\n",
       "NAD_0       0\n",
       "NAD_1       0\n",
       "NAD_2       0\n",
       "NAD_3       0\n",
       "NAD_4       0\n",
       "NAD_5       0\n",
       "NAD_6       0\n",
       "Target      0\n",
       "Length: 78, dtype: int64"
      ]
     },
     "execution_count": 8,
     "metadata": {},
     "output_type": "execute_result"
    }
   ],
   "source": [
    "data.isnull().sum()"
   ]
  },
  {
   "cell_type": "code",
   "execution_count": 9,
   "metadata": {},
   "outputs": [
    {
     "data": {
      "text/html": [
       "<div>\n",
       "<style scoped>\n",
       "    .dataframe tbody tr th:only-of-type {\n",
       "        vertical-align: middle;\n",
       "    }\n",
       "\n",
       "    .dataframe tbody tr th {\n",
       "        vertical-align: top;\n",
       "    }\n",
       "\n",
       "    .dataframe thead th {\n",
       "        text-align: right;\n",
       "    }\n",
       "</style>\n",
       "<table border=\"1\" class=\"dataframe\">\n",
       "  <thead>\n",
       "    <tr style=\"text-align: right;\">\n",
       "      <th></th>\n",
       "      <th>NCD_0</th>\n",
       "      <th>NCD_1</th>\n",
       "      <th>NCD_2</th>\n",
       "      <th>NCD_3</th>\n",
       "      <th>NCD_4</th>\n",
       "      <th>NCD_5</th>\n",
       "      <th>NCD_6</th>\n",
       "      <th>AI_0</th>\n",
       "      <th>AI_1</th>\n",
       "      <th>AI_2</th>\n",
       "      <th>...</th>\n",
       "      <th>ADL_5</th>\n",
       "      <th>ADL_6</th>\n",
       "      <th>NAD_0</th>\n",
       "      <th>NAD_1</th>\n",
       "      <th>NAD_2</th>\n",
       "      <th>NAD_3</th>\n",
       "      <th>NAD_4</th>\n",
       "      <th>NAD_5</th>\n",
       "      <th>NAD_6</th>\n",
       "      <th>Target</th>\n",
       "    </tr>\n",
       "  </thead>\n",
       "  <tbody>\n",
       "    <tr>\n",
       "      <th>count</th>\n",
       "      <td>583250.000000</td>\n",
       "      <td>583250.000000</td>\n",
       "      <td>583250.000000</td>\n",
       "      <td>583250.000000</td>\n",
       "      <td>583250.000000</td>\n",
       "      <td>583250.000000</td>\n",
       "      <td>583250.000000</td>\n",
       "      <td>583250.000000</td>\n",
       "      <td>583250.000000</td>\n",
       "      <td>583250.000000</td>\n",
       "      <td>...</td>\n",
       "      <td>583250.000000</td>\n",
       "      <td>583250.000000</td>\n",
       "      <td>583250.000000</td>\n",
       "      <td>583250.000000</td>\n",
       "      <td>583250.000000</td>\n",
       "      <td>583250.000000</td>\n",
       "      <td>583250.000000</td>\n",
       "      <td>583250.000000</td>\n",
       "      <td>583250.000000</td>\n",
       "      <td>583250.000000</td>\n",
       "    </tr>\n",
       "    <tr>\n",
       "      <th>mean</th>\n",
       "      <td>140.339640</td>\n",
       "      <td>136.770147</td>\n",
       "      <td>159.679271</td>\n",
       "      <td>181.592091</td>\n",
       "      <td>201.097445</td>\n",
       "      <td>220.175371</td>\n",
       "      <td>219.388214</td>\n",
       "      <td>71.038051</td>\n",
       "      <td>69.829631</td>\n",
       "      <td>82.198203</td>\n",
       "      <td>...</td>\n",
       "      <td>1.136688</td>\n",
       "      <td>1.140372</td>\n",
       "      <td>140.789860</td>\n",
       "      <td>137.181270</td>\n",
       "      <td>160.105922</td>\n",
       "      <td>182.057440</td>\n",
       "      <td>201.596482</td>\n",
       "      <td>220.705900</td>\n",
       "      <td>219.936864</td>\n",
       "      <td>191.279493</td>\n",
       "    </tr>\n",
       "    <tr>\n",
       "      <th>std</th>\n",
       "      <td>431.772639</td>\n",
       "      <td>432.305129</td>\n",
       "      <td>502.057428</td>\n",
       "      <td>574.883713</td>\n",
       "      <td>630.448432</td>\n",
       "      <td>669.205930</td>\n",
       "      <td>672.182204</td>\n",
       "      <td>196.876718</td>\n",
       "      <td>202.199758</td>\n",
       "      <td>239.523042</td>\n",
       "      <td>...</td>\n",
       "      <td>1.432327</td>\n",
       "      <td>1.552313</td>\n",
       "      <td>432.624954</td>\n",
       "      <td>433.026611</td>\n",
       "      <td>502.774408</td>\n",
       "      <td>575.658022</td>\n",
       "      <td>631.258318</td>\n",
       "      <td>670.050977</td>\n",
       "      <td>673.032541</td>\n",
       "      <td>612.352354</td>\n",
       "    </tr>\n",
       "    <tr>\n",
       "      <th>min</th>\n",
       "      <td>0.000000</td>\n",
       "      <td>0.000000</td>\n",
       "      <td>0.000000</td>\n",
       "      <td>0.000000</td>\n",
       "      <td>0.000000</td>\n",
       "      <td>0.000000</td>\n",
       "      <td>0.000000</td>\n",
       "      <td>0.000000</td>\n",
       "      <td>0.000000</td>\n",
       "      <td>0.000000</td>\n",
       "      <td>...</td>\n",
       "      <td>0.000000</td>\n",
       "      <td>0.000000</td>\n",
       "      <td>0.000000</td>\n",
       "      <td>0.000000</td>\n",
       "      <td>0.000000</td>\n",
       "      <td>0.000000</td>\n",
       "      <td>0.000000</td>\n",
       "      <td>0.000000</td>\n",
       "      <td>0.000000</td>\n",
       "      <td>0.000000</td>\n",
       "    </tr>\n",
       "    <tr>\n",
       "      <th>25%</th>\n",
       "      <td>3.000000</td>\n",
       "      <td>3.000000</td>\n",
       "      <td>4.000000</td>\n",
       "      <td>4.000000</td>\n",
       "      <td>5.000000</td>\n",
       "      <td>6.000000</td>\n",
       "      <td>6.000000</td>\n",
       "      <td>2.000000</td>\n",
       "      <td>2.000000</td>\n",
       "      <td>2.000000</td>\n",
       "      <td>...</td>\n",
       "      <td>1.000000</td>\n",
       "      <td>1.000000</td>\n",
       "      <td>3.000000</td>\n",
       "      <td>3.000000</td>\n",
       "      <td>4.000000</td>\n",
       "      <td>4.000000</td>\n",
       "      <td>5.000000</td>\n",
       "      <td>6.000000</td>\n",
       "      <td>6.000000</td>\n",
       "      <td>4.500000</td>\n",
       "    </tr>\n",
       "    <tr>\n",
       "      <th>50%</th>\n",
       "      <td>18.000000</td>\n",
       "      <td>17.000000</td>\n",
       "      <td>21.000000</td>\n",
       "      <td>24.000000</td>\n",
       "      <td>27.000000</td>\n",
       "      <td>31.000000</td>\n",
       "      <td>30.000000</td>\n",
       "      <td>11.000000</td>\n",
       "      <td>11.000000</td>\n",
       "      <td>13.000000</td>\n",
       "      <td>...</td>\n",
       "      <td>1.000000</td>\n",
       "      <td>1.000000</td>\n",
       "      <td>18.000000</td>\n",
       "      <td>17.000000</td>\n",
       "      <td>21.000000</td>\n",
       "      <td>24.000000</td>\n",
       "      <td>27.000000</td>\n",
       "      <td>31.000000</td>\n",
       "      <td>31.000000</td>\n",
       "      <td>25.500000</td>\n",
       "    </tr>\n",
       "    <tr>\n",
       "      <th>75%</th>\n",
       "      <td>104.000000</td>\n",
       "      <td>100.000000</td>\n",
       "      <td>115.000000</td>\n",
       "      <td>131.000000</td>\n",
       "      <td>147.000000</td>\n",
       "      <td>166.000000</td>\n",
       "      <td>164.000000</td>\n",
       "      <td>59.000000</td>\n",
       "      <td>57.000000</td>\n",
       "      <td>65.000000</td>\n",
       "      <td>...</td>\n",
       "      <td>1.090909</td>\n",
       "      <td>1.091296</td>\n",
       "      <td>104.000000</td>\n",
       "      <td>101.000000</td>\n",
       "      <td>115.000000</td>\n",
       "      <td>131.000000</td>\n",
       "      <td>148.000000</td>\n",
       "      <td>167.000000</td>\n",
       "      <td>165.000000</td>\n",
       "      <td>139.000000</td>\n",
       "    </tr>\n",
       "    <tr>\n",
       "      <th>max</th>\n",
       "      <td>24210.000000</td>\n",
       "      <td>29574.000000</td>\n",
       "      <td>37505.000000</td>\n",
       "      <td>72366.000000</td>\n",
       "      <td>79079.000000</td>\n",
       "      <td>79079.000000</td>\n",
       "      <td>79079.000000</td>\n",
       "      <td>18654.000000</td>\n",
       "      <td>22035.000000</td>\n",
       "      <td>29402.000000</td>\n",
       "      <td>...</td>\n",
       "      <td>262.000000</td>\n",
       "      <td>295.000000</td>\n",
       "      <td>24301.000000</td>\n",
       "      <td>29574.000000</td>\n",
       "      <td>37505.000000</td>\n",
       "      <td>72366.000000</td>\n",
       "      <td>79083.000000</td>\n",
       "      <td>79083.000000</td>\n",
       "      <td>79083.000000</td>\n",
       "      <td>75724.500000</td>\n",
       "    </tr>\n",
       "  </tbody>\n",
       "</table>\n",
       "<p>8 rows × 78 columns</p>\n",
       "</div>"
      ],
      "text/plain": [
       "               NCD_0          NCD_1          NCD_2          NCD_3  \\\n",
       "count  583250.000000  583250.000000  583250.000000  583250.000000   \n",
       "mean      140.339640     136.770147     159.679271     181.592091   \n",
       "std       431.772639     432.305129     502.057428     574.883713   \n",
       "min         0.000000       0.000000       0.000000       0.000000   \n",
       "25%         3.000000       3.000000       4.000000       4.000000   \n",
       "50%        18.000000      17.000000      21.000000      24.000000   \n",
       "75%       104.000000     100.000000     115.000000     131.000000   \n",
       "max     24210.000000   29574.000000   37505.000000   72366.000000   \n",
       "\n",
       "               NCD_4          NCD_5          NCD_6           AI_0  \\\n",
       "count  583250.000000  583250.000000  583250.000000  583250.000000   \n",
       "mean      201.097445     220.175371     219.388214      71.038051   \n",
       "std       630.448432     669.205930     672.182204     196.876718   \n",
       "min         0.000000       0.000000       0.000000       0.000000   \n",
       "25%         5.000000       6.000000       6.000000       2.000000   \n",
       "50%        27.000000      31.000000      30.000000      11.000000   \n",
       "75%       147.000000     166.000000     164.000000      59.000000   \n",
       "max     79079.000000   79079.000000   79079.000000   18654.000000   \n",
       "\n",
       "                AI_1           AI_2      ...                ADL_5  \\\n",
       "count  583250.000000  583250.000000      ...        583250.000000   \n",
       "mean       69.829631      82.198203      ...             1.136688   \n",
       "std       202.199758     239.523042      ...             1.432327   \n",
       "min         0.000000       0.000000      ...             0.000000   \n",
       "25%         2.000000       2.000000      ...             1.000000   \n",
       "50%        11.000000      13.000000      ...             1.000000   \n",
       "75%        57.000000      65.000000      ...             1.090909   \n",
       "max     22035.000000   29402.000000      ...           262.000000   \n",
       "\n",
       "               ADL_6          NAD_0          NAD_1          NAD_2  \\\n",
       "count  583250.000000  583250.000000  583250.000000  583250.000000   \n",
       "mean        1.140372     140.789860     137.181270     160.105922   \n",
       "std         1.552313     432.624954     433.026611     502.774408   \n",
       "min         0.000000       0.000000       0.000000       0.000000   \n",
       "25%         1.000000       3.000000       3.000000       4.000000   \n",
       "50%         1.000000      18.000000      17.000000      21.000000   \n",
       "75%         1.091296     104.000000     101.000000     115.000000   \n",
       "max       295.000000   24301.000000   29574.000000   37505.000000   \n",
       "\n",
       "               NAD_3          NAD_4          NAD_5          NAD_6  \\\n",
       "count  583250.000000  583250.000000  583250.000000  583250.000000   \n",
       "mean      182.057440     201.596482     220.705900     219.936864   \n",
       "std       575.658022     631.258318     670.050977     673.032541   \n",
       "min         0.000000       0.000000       0.000000       0.000000   \n",
       "25%         4.000000       5.000000       6.000000       6.000000   \n",
       "50%        24.000000      27.000000      31.000000      31.000000   \n",
       "75%       131.000000     148.000000     167.000000     165.000000   \n",
       "max     72366.000000   79083.000000   79083.000000   79083.000000   \n",
       "\n",
       "              Target  \n",
       "count  583250.000000  \n",
       "mean      191.279493  \n",
       "std       612.352354  \n",
       "min         0.000000  \n",
       "25%         4.500000  \n",
       "50%        25.500000  \n",
       "75%       139.000000  \n",
       "max     75724.500000  \n",
       "\n",
       "[8 rows x 78 columns]"
      ]
     },
     "execution_count": 9,
     "metadata": {},
     "output_type": "execute_result"
    }
   ],
   "source": [
    "data.describe()"
   ]
  },
  {
   "cell_type": "code",
   "execution_count": 10,
   "metadata": {},
   "outputs": [],
   "source": [
    "X = data.iloc[:, :-1]\n",
    "y = data.iloc[:, -1]"
   ]
  },
  {
   "cell_type": "code",
   "execution_count": 11,
   "metadata": {},
   "outputs": [],
   "source": [
    "from sklearn.model_selection import train_test_split\n",
    "_, sample_data, _, sample_target = train_test_split(X, y, shuffle = True, test_size = 0.1)"
   ]
  },
  {
   "cell_type": "code",
   "execution_count": 12,
   "metadata": {},
   "outputs": [
    {
     "data": {
      "text/plain": [
       "(58325, 77)"
      ]
     },
     "execution_count": 12,
     "metadata": {},
     "output_type": "execute_result"
    }
   ],
   "source": [
    "sample_data.shape"
   ]
  },
  {
   "cell_type": "code",
   "execution_count": 13,
   "metadata": {},
   "outputs": [
    {
     "data": {
      "text/plain": [
       "(58325,)"
      ]
     },
     "execution_count": 13,
     "metadata": {},
     "output_type": "execute_result"
    }
   ],
   "source": [
    "sample_target.shape"
   ]
  },
  {
   "cell_type": "code",
   "execution_count": 14,
   "metadata": {},
   "outputs": [],
   "source": [
    "X_train_org, X_test_org, y_train, y_test = train_test_split(sample_data, sample_target, random_state = 0)"
   ]
  },
  {
   "cell_type": "code",
   "execution_count": 15,
   "metadata": {},
   "outputs": [
    {
     "name": "stderr",
     "output_type": "stream",
     "text": [
      "C:\\Users\\keeps\\Anaconda3\\envs\\tf-gpu\\lib\\site-packages\\sklearn\\preprocessing\\data.py:323: DataConversionWarning: Data with input dtype int64, float64 were all converted to float64 by MinMaxScaler.\n",
      "  return self.partial_fit(X, y)\n"
     ]
    }
   ],
   "source": [
    "from sklearn.preprocessing import MinMaxScaler\n",
    "scaler = MinMaxScaler()\n",
    "X_train = scaler.fit_transform(X_train_org)\n",
    "X_test = scaler.transform(X_test_org)"
   ]
  },
  {
   "cell_type": "code",
   "execution_count": 39,
   "metadata": {},
   "outputs": [
    {
     "data": {
      "text/plain": [
       "array([[3.44993231e-03, 3.72818166e-03, 4.95908753e-03, ...,\n",
       "        1.49241356e-03, 1.45416841e-03, 2.93048053e-03],\n",
       "       [9.60740644e-04, 3.38925606e-04, 3.89642591e-04, ...,\n",
       "        1.79642373e-04, 3.66703337e-04, 7.76753875e-04],\n",
       "       [2.40185161e-03, 8.89679715e-04, 6.37596968e-04, ...,\n",
       "        5.11289832e-04, 5.43732534e-04, 1.51820076e-03],\n",
       "       ...,\n",
       "       [2.13983143e-03, 1.48279953e-03, 9.56395452e-04, ...,\n",
       "        7.87662715e-04, 8.21921273e-04, 1.20043781e-03],\n",
       "       [2.88222193e-03, 2.88086765e-03, 3.18798484e-03, ...,\n",
       "        2.16952713e-03, 1.65648749e-03, 4.16622533e-03],\n",
       "       [0.00000000e+00, 4.23657007e-05, 0.00000000e+00, ...,\n",
       "        1.38186441e-05, 0.00000000e+00, 7.06139886e-05]])"
      ]
     },
     "execution_count": 39,
     "metadata": {},
     "output_type": "execute_result"
    }
   ],
   "source": [
    "X_test"
   ]
  },
  {
   "cell_type": "code",
   "execution_count": 30,
   "metadata": {},
   "outputs": [],
   "source": [
    "report_table = []"
   ]
  },
  {
   "cell_type": "markdown",
   "metadata": {},
   "source": [
    "## BAGGING"
   ]
  },
  {
   "cell_type": "markdown",
   "metadata": {},
   "source": [
    "###  1. KNN Using Bagging"
   ]
  },
  {
   "cell_type": "code",
   "execution_count": 49,
   "metadata": {},
   "outputs": [
    {
     "name": "stdout",
     "output_type": "stream",
     "text": [
      "Train score: 0.77\n",
      "Test score: 0.58\n"
     ]
    }
   ],
   "source": [
    "from sklearn.ensemble import BaggingRegressor\n",
    "from sklearn.neighbors import KNeighborsRegressor\n",
    "model_knn = KNeighborsRegressor(n_neighbors = 3)\n",
    "from sklearn.metrics import r2_score\n",
    "\n",
    "bagging_knn = BaggingRegressor(model_knn, n_estimators = 100, max_samples = 1000, max_features = 77, bootstrap = True,n_jobs = n_jobs)\n",
    "bagging_knn.fit(X_train,y_train)\n",
    "\n",
    "train_MSE = mean_squared_error(y_train, bagging_knn.predict(X_train))\n",
    "test_MSE = mean_squared_error(y_test, bagging_knn.predict(X_test))\n",
    "print('Train score: {:.2f}'.format(bagging_knn.score(X_train, y_train)))\n",
    "print('Test score: {:.2f}'.format(bagging_knn.score(X_test, y_test)))"
   ]
  },
  {
   "cell_type": "markdown",
   "metadata": {},
   "source": [
    "### 2. Decision Tree Using Bagging"
   ]
  },
  {
   "cell_type": "code",
   "execution_count": 33,
   "metadata": {},
   "outputs": [
    {
     "name": "stdout",
     "output_type": "stream",
     "text": [
      "Train score: 0.98\n",
      "Test score: 0.84\n"
     ]
    }
   ],
   "source": [
    "from sklearn.ensemble import BaggingRegressor\n",
    "from sklearn.tree import DecisionTreeRegressor\n",
    "model_dt = DecisionTreeRegressor(max_depth= 10,random_state=0)\n",
    "from sklearn.metrics import r2_score\n",
    "\n",
    "bagging_dt = BaggingRegressor(model_dt, n_estimators = 500, max_features = 50, bootstrap = True, n_jobs=n_jobs, random_state=0)\n",
    "bagging_dt.fit(X_train, y_train)\n",
    "\n",
    "train_MSE = mean_squared_error(y_train, bagging_dt.predict(X_train))\n",
    "test_MSE = mean_squared_error(y_test, bagging_dt.predict(X_test))\n",
    "print('Train score: {:.2f}'.format(bagging_dt.score(X_train, y_train)))\n",
    "print('Test score: {:.2f}'.format(bagging_dt.score(X_test, y_test)))"
   ]
  },
  {
   "cell_type": "markdown",
   "metadata": {},
   "source": [
    "## Pasting"
   ]
  },
  {
   "cell_type": "markdown",
   "metadata": {},
   "source": [
    "### 1. KNN using Pasting"
   ]
  },
  {
   "cell_type": "code",
   "execution_count": 34,
   "metadata": {},
   "outputs": [
    {
     "name": "stdout",
     "output_type": "stream",
     "text": [
      "Train score: 0.73\n",
      "Test score: 0.53\n"
     ]
    }
   ],
   "source": [
    "from sklearn.ensemble import BaggingRegressor\n",
    "from sklearn.neighbors import KNeighborsRegressor\n",
    "model_knn = KNeighborsRegressor()\n",
    "from sklearn.metrics import r2_score\n",
    "\n",
    "pasting_knn = BaggingRegressor(model_knn, n_estimators = 100, max_samples = 1000, max_features = 77, bootstrap = False)\n",
    "pasting_knn.fit(X_train,y_train)\n",
    "\n",
    "train_MSE = mean_squared_error(y_train, pasting_knn.predict(X_train))\n",
    "test_MSE = mean_squared_error(y_test, pasting_knn.predict(X_test))\n",
    "print('Train score: {:.2f}'.format(pasting_knn.score(X_train, y_train)))\n",
    "print('Test score: {:.2f}'.format(pasting_knn.score(X_test, y_test)))"
   ]
  },
  {
   "cell_type": "markdown",
   "metadata": {},
   "source": [
    "### 2. SVM using Pasting"
   ]
  },
  {
   "cell_type": "code",
   "execution_count": 35,
   "metadata": {},
   "outputs": [
    {
     "name": "stdout",
     "output_type": "stream",
     "text": [
      "Train score: 0.93\n",
      "Test score: 0.95\n"
     ]
    }
   ],
   "source": [
    "from sklearn.ensemble import BaggingRegressor\n",
    "from sklearn.svm import LinearSVR\n",
    "model_svm = LinearSVR(C = 1000, random_state=0)\n",
    "from sklearn.metrics import r2_score\n",
    "\n",
    "pasting_svm = BaggingRegressor(model_svm, n_estimators = 100, max_samples = 1000, max_features = 77, bootstrap = False)\n",
    "pasting_svm.fit(X_train,y_train)\n",
    "\n",
    "train_MSE = mean_squared_error(y_train, pasting_svm.predict(X_train))\n",
    "test_MSE = mean_squared_error(y_test, pasting_svm.predict(X_test))\n",
    "print('Train score: {:.2f}'.format(pasting_svm.score(X_train, y_train)))\n",
    "print('Test score: {:.2f}'.format(pasting_svm.score(X_test, y_test)))"
   ]
  },
  {
   "cell_type": "markdown",
   "metadata": {},
   "source": [
    "## AdaBoost"
   ]
  },
  {
   "cell_type": "markdown",
   "metadata": {},
   "source": [
    "### 1. Adaboosting using Decision Tree "
   ]
  },
  {
   "cell_type": "code",
   "execution_count": 41,
   "metadata": {},
   "outputs": [
    {
     "name": "stdout",
     "output_type": "stream",
     "text": [
      "Train score: 0.98\n",
      "Test score: 0.87\n"
     ]
    }
   ],
   "source": [
    "from sklearn.ensemble import AdaBoostRegressor\n",
    "from sklearn.tree import DecisionTreeRegressor\n",
    "model_dt = DecisionTreeRegressor(max_depth= 10)\n",
    "from sklearn.metrics import r2_score\n",
    "\n",
    "adaboost_dt = AdaBoostRegressor(model_dt, n_estimators=200, loss='linear', learning_rate=0.5, random_state=0)\n",
    "adaboost_dt.fit(X_train, y_train)\n",
    "\n",
    "train_MSE = mean_squared_error(y_train, adaboost_dt.predict(X_train))\n",
    "test_MSE = mean_squared_error(y_test, adaboost_dt.predict(X_test))\n",
    "print('Train score: {:.2f}'.format(adaboost_dt.score(X_train, y_train)))\n",
    "print('Test score: {:.2f}'.format(adaboost_dt.score(X_test, y_test)))"
   ]
  },
  {
   "cell_type": "markdown",
   "metadata": {},
   "source": [
    "### 2. Adaboosting Using Linear Regression"
   ]
  },
  {
   "cell_type": "code",
   "execution_count": 46,
   "metadata": {},
   "outputs": [
    {
     "name": "stdout",
     "output_type": "stream",
     "text": [
      "Train score: 0.71\n",
      "Test score: 0.76\n"
     ]
    }
   ],
   "source": [
    "from sklearn.ensemble import AdaBoostRegressor\n",
    "from sklearn.linear_model import LinearRegression\n",
    "model_lreg = LinearRegression()\n",
    "from sklearn.metrics import r2_score\n",
    "\n",
    "adaboost_lreg = AdaBoostRegressor(model_lreg, n_estimators=200, loss='linear', learning_rate=0.5, random_state=0)\n",
    "adaboost_lreg.fit(X_train, y_train)\n",
    "\n",
    "train_MSE = mean_squared_error(y_train, adaboost_lreg.predict(X_train))\n",
    "test_MSE = mean_squared_error(y_test, adaboost_lreg.predict(X_test))\n",
    "print('Train score: {:.2f}'.format(adaboost_lreg.score(X_train, y_train)))\n",
    "print('Test score: {:.2f}'.format(adaboost_lreg.score(X_test, y_test)))"
   ]
  },
  {
   "cell_type": "markdown",
   "metadata": {},
   "source": [
    "## Gradient Boosting"
   ]
  },
  {
   "cell_type": "code",
   "execution_count": 48,
   "metadata": {},
   "outputs": [
    {
     "name": "stdout",
     "output_type": "stream",
     "text": [
      "Train score: 0.96\n",
      "Test score: 0.85\n"
     ]
    }
   ],
   "source": [
    "from  sklearn.ensemble import GradientBoostingRegressor\n",
    "gbrt = GradientBoostingRegressor(max_depth=1, n_estimators=200, learning_rate=0.5, random_state=0)\n",
    "gbrt.fit(X_train, y_train)\n",
    "\n",
    "train_MSE = mean_squared_error(y_train, gbrt.predict(X_train))\n",
    "test_MSE = mean_squared_error(y_test, gbrt.predict(X_test))\n",
    "print('Train score: {:.2f}'.format(gbrt.score(X_train, y_train)))\n",
    "print('Test score: {:.2f}'.format(gbrt.score(X_test, y_test)))"
   ]
  },
  {
   "cell_type": "markdown",
   "metadata": {},
   "source": [
    "## PCA"
   ]
  },
  {
   "cell_type": "code",
   "execution_count": 50,
   "metadata": {},
   "outputs": [
    {
     "data": {
      "text/plain": [
       "(58325, 77)"
      ]
     },
     "execution_count": 50,
     "metadata": {},
     "output_type": "execute_result"
    }
   ],
   "source": [
    "X_scaled = scaler.fit_transform(sample_data)\n",
    "X_scaled.shape"
   ]
  },
  {
   "cell_type": "code",
   "execution_count": 51,
   "metadata": {},
   "outputs": [
    {
     "data": {
      "text/plain": [
       "PCA(copy=True, iterated_power='auto', n_components=None, random_state=None,\n",
       "  svd_solver='auto', tol=0.0, whiten=False)"
      ]
     },
     "execution_count": 51,
     "metadata": {},
     "output_type": "execute_result"
    }
   ],
   "source": [
    "from sklearn.decomposition import PCA\n",
    "pca = PCA()\n",
    "pca.fit(X_scaled)"
   ]
  },
  {
   "cell_type": "code",
   "execution_count": 52,
   "metadata": {},
   "outputs": [
    {
     "data": {
      "text/plain": [
       "8"
      ]
     },
     "execution_count": 52,
     "metadata": {},
     "output_type": "execute_result"
    }
   ],
   "source": [
    "cumsum = np.cumsum(pca.explained_variance_ratio_)\n",
    "d = np.argmax(cumsum >= 0.98) + 1\n",
    "d"
   ]
  },
  {
   "cell_type": "code",
   "execution_count": 53,
   "metadata": {},
   "outputs": [
    {
     "data": {
      "image/png": "[encoded data removed]",
      "text/plain": [
       "<matplotlib.figure.Figure at 0x7f84c3a6c8d0>"
      ]
     },
     "metadata": {},
     "output_type": "display_data"
    }
   ],
   "source": [
    "sns.set_style(\"darkgrid\")\n",
    "plt.plot(cumsum)\n",
    "plt.show()"
   ]
  },
  {
   "cell_type": "code",
   "execution_count": 54,
   "metadata": {},
   "outputs": [],
   "source": [
    "pca = PCA(n_components = 8)\n",
    "X_reduced = pca.fit_transform(X_scaled)"
   ]
  },
  {
   "cell_type": "code",
   "execution_count": 55,
   "metadata": {},
   "outputs": [
    {
     "data": {
      "text/plain": [
       "(58325, 8)"
      ]
     },
     "execution_count": 55,
     "metadata": {},
     "output_type": "execute_result"
    }
   ],
   "source": [
    "X_reduced.shape"
   ]
  },
  {
   "cell_type": "code",
   "execution_count": 56,
   "metadata": {},
   "outputs": [],
   "source": [
    "X_pca = X_reduced"
   ]
  },
  {
   "cell_type": "code",
   "execution_count": 57,
   "metadata": {},
   "outputs": [],
   "source": [
    "X_train_pca, X_test_pca, y_train_pca, y_test_pca = train_test_split(X_pca,sample_target,random_state=0)"
   ]
  },
  {
   "cell_type": "markdown",
   "metadata": {},
   "source": [
    "## KNN with PCA"
   ]
  },
  {
   "cell_type": "code",
   "execution_count": 58,
   "metadata": {},
   "outputs": [
    {
     "name": "stdout",
     "output_type": "stream",
     "text": [
      "Parameter grid:\n",
      "{'n_neighbors': [1, 5, 10, 15, 20]}\n"
     ]
    }
   ],
   "source": [
    "from sklearn.model_selection import GridSearchCV\n",
    "from sklearn.neighbors import KNeighborsRegressor\n",
    "model_KNN = KNeighborsRegressor()\n",
    "param_KNN = {'n_neighbors':[1, 5, 10, 15, 20]}\n",
    "print(\"Parameter grid:\\n{}\".format(param_KNN))\n",
    "grid_KNN = GridSearchCV(model_KNN, param_grid = param_KNN, cv=5, return_train_score=True, n_jobs=n_jobs)"
   ]
  },
  {
   "cell_type": "code",
   "execution_count": 59,
   "metadata": {},
   "outputs": [
    {
     "data": {
      "text/plain": [
       "GridSearchCV(cv=5, error_score='raise',\n",
       "       estimator=KNeighborsRegressor(algorithm='auto', leaf_size=30, metric='minkowski',\n",
       "          metric_params=None, n_jobs=1, n_neighbors=5, p=2,\n",
       "          weights='uniform'),\n",
       "       fit_params=None, iid=True, n_jobs=16,\n",
       "       param_grid={'n_neighbors': [1, 5, 10, 15, 20]},\n",
       "       pre_dispatch='2*n_jobs', refit=True, return_train_score=True,\n",
       "       scoring=None, verbose=0)"
      ]
     },
     "execution_count": 59,
     "metadata": {},
     "output_type": "execute_result"
    }
   ],
   "source": [
    "grid_KNN.fit(X_train_pca,y_train_pca)"
   ]
  },
  {
   "cell_type": "code",
   "execution_count": 60,
   "metadata": {},
   "outputs": [
    {
     "data": {
      "image/png": "[encoded data removed]",
      "text/plain": [
       "<matplotlib.figure.Figure at 0x7f84c3aad0f0>"
      ]
     },
     "metadata": {},
     "output_type": "display_data"
    }
   ],
   "source": [
    "nearest_neighbours = [1, 5, 10, 15, 20]\n",
    "\n",
    "train_scores_mean = grid_KNN.cv_results_[\"mean_train_score\"]\n",
    "train_scores_std = grid_KNN.cv_results_[\"std_train_score\"]\n",
    "test_scores_mean = grid_KNN.cv_results_[\"mean_test_score\"]\n",
    "test_scores_std = grid_KNN.cv_results_[\"std_test_score\"]\n",
    "\n",
    "plt.figure(figsize = (12,8))\n",
    "plt.title('Model')\n",
    "plt.xlabel('$\\\\alpha$ (alpha)')\n",
    "plt.ylabel('Score')\n",
    "# plot train scores\n",
    "plt.plot(nearest_neighbours, train_scores_mean, label='Mean Train score',\n",
    "             color='navy')\n",
    "# create a shaded area between [mean - std, mean + std]\n",
    "#plt.gca().fill_between(nearest_neighbours,\n",
    "                       #train_scores_mean - train_scores_std,\n",
    "                       #train_scores_mean + train_scores_std,\n",
    "                       #alpha=0.2,\n",
    "                       #color='navy')\n",
    "plt.plot(nearest_neighbours, test_scores_mean,\n",
    "             label='Mean Test score', color='darkorange')\n",
    "\n",
    "# create a shaded area between [mean - std, mean + std]\n",
    "#plt.gca().fill_between(nearest_neighbours,\n",
    "                       #test_scores_mean - test_scores_std,\n",
    "                       #test_scores_mean + test_scores_std,\n",
    "                       #alpha=0.2,\n",
    "                       #color='darkorange')\n",
    "plt.legend(loc='best')\n",
    "plt.show()"
   ]
  },
  {
   "cell_type": "code",
   "execution_count": 61,
   "metadata": {
    "scrolled": true
   },
   "outputs": [
    {
     "name": "stdout",
     "output_type": "stream",
     "text": [
      "Best cross-validation score: 0.85\n",
      "Best parameters: {'n_neighbors': 15}\n",
      "Training Score: 0.8704739233492735\n",
      "Testing Score: 0.7138445925533325\n"
     ]
    }
   ],
   "source": [
    "print(\"Best cross-validation score: {:.2f}\".format(grid_KNN.best_score_))\n",
    "print(\"Best parameters: {}\".format(grid_KNN.best_params_))\n",
    "print(\"Training Score: {}\".format(grid_KNN.score(X_train_pca, y_train_pca)))\n",
    "print(\"Testing Score: {}\".format(grid_KNN.score(X_test_pca, y_test_pca)))"
   ]
  },
  {
   "cell_type": "code",
   "execution_count": 62,
   "metadata": {},
   "outputs": [],
   "source": [
    "report_table.append({'Model_name':'KNN',\n",
    "                    'Paramater':grid_KNN.best_params_,\n",
    "                    'Training_score':grid_KNN.score(X_train_pca, y_train_pca),\n",
    "                    'Test Score':grid_KNN.score(X_test_pca, y_test_pca)\n",
    "                    })"
   ]
  },
  {
   "cell_type": "markdown",
   "metadata": {},
   "source": [
    "## Linear Regression with PCA"
   ]
  },
  {
   "cell_type": "code",
   "execution_count": 63,
   "metadata": {},
   "outputs": [],
   "source": [
    "from sklearn.linear_model import LinearRegression\n",
    "from sklearn.model_selection import cross_val_score\n",
    "from sklearn.model_selection import cross_val_predict\n",
    "lreg = LinearRegression()"
   ]
  },
  {
   "cell_type": "code",
   "execution_count": 64,
   "metadata": {},
   "outputs": [
    {
     "name": "stdout",
     "output_type": "stream",
     "text": [
      "Cross-validation scores: [0.86441121 0.82916616 0.80810196 0.88167567 0.88103765]\n",
      "Train Score 0.85\n",
      "Test Score 0.83\n"
     ]
    }
   ],
   "source": [
    "scores = cross_val_score(lreg, X_train_pca, y_train_pca, cv=5)\n",
    "print(\"Cross-validation scores: {}\".format(scores))\n",
    "print(\"Train Score {:.2f}\".format(scores.mean()))\n",
    "lreg.fit(X_train_pca, y_train_pca)\n",
    "test_score = lreg.score(X_test_pca,y_test_pca) \n",
    "print(\"Test Score {:.2f}\".format(test_score))"
   ]
  },
  {
   "cell_type": "code",
   "execution_count": 65,
   "metadata": {},
   "outputs": [],
   "source": [
    "report_table.append({'Model_name':'LinearRegression',\n",
    "                    'Paramater':'No Parameter',\n",
    "                    'Training_score': scores.mean(),\n",
    "                    'Test Score':test_score})"
   ]
  },
  {
   "cell_type": "markdown",
   "metadata": {},
   "source": [
    "## SGD with PCA"
   ]
  },
  {
   "cell_type": "code",
   "execution_count": 66,
   "metadata": {},
   "outputs": [
    {
     "name": "stdout",
     "output_type": "stream",
     "text": [
      "Parameter grid:\n",
      "{'max_iter': [10, 100, 1000], 'learning_rate': ['optimal'], 'penalty': ['l1', 'l2'], 'random_state': [0]}\n"
     ]
    }
   ],
   "source": [
    "from sklearn.model_selection import GridSearchCV\n",
    "from sklearn.linear_model import SGDRegressor\n",
    "param_SGD = {'max_iter': [10, 100, 1000],'learning_rate':['optimal'], 'penalty' :['l1','l2'],'random_state':[0]}\n",
    "print(\"Parameter grid:\\n{}\".format(param_SGD))\n",
    "grid_SGD = GridSearchCV(estimator = SGDRegressor(), param_grid = param_SGD, cv=5, return_train_score=True,n_jobs=n_jobs)"
   ]
  },
  {
   "cell_type": "code",
   "execution_count": 67,
   "metadata": {},
   "outputs": [
    {
     "data": {
      "text/plain": [
       "GridSearchCV(cv=5, error_score='raise',\n",
       "       estimator=SGDRegressor(alpha=0.0001, average=False, epsilon=0.1, eta0=0.01,\n",
       "       fit_intercept=True, l1_ratio=0.15, learning_rate='invscaling',\n",
       "       loss='squared_loss', max_iter=None, n_iter=None, penalty='l2',\n",
       "       power_t=0.25, random_state=None, shuffle=True, tol=None, verbose=0,\n",
       "       warm_start=False),\n",
       "       fit_params=None, iid=True, n_jobs=16,\n",
       "       param_grid={'max_iter': [10, 100, 1000], 'learning_rate': ['optimal'], 'penalty': ['l1', 'l2'], 'random_state': [0]},\n",
       "       pre_dispatch='2*n_jobs', refit=True, return_train_score=True,\n",
       "       scoring=None, verbose=0)"
      ]
     },
     "execution_count": 67,
     "metadata": {},
     "output_type": "execute_result"
    }
   ],
   "source": [
    "grid_SGD.fit(X_train_pca, y_train_pca)"
   ]
  },
  {
   "cell_type": "code",
   "execution_count": 68,
   "metadata": {},
   "outputs": [
    {
     "name": "stdout",
     "output_type": "stream",
     "text": [
      "CV result: [0.85032826 0.8504604  0.8517063  0.85199841 0.85279957 0.85295123]\n",
      "Best parameters: {'learning_rate': 'optimal', 'max_iter': 1000, 'penalty': 'l2', 'random_state': 0}\n",
      "Training Score: 0.8517507232913657\n",
      "Testing Score: 0.8333978358292539\n"
     ]
    }
   ],
   "source": [
    "print(\"CV result: {}\".format(grid_SGD.cv_results_['mean_test_score']))\n",
    "#print(\"Best cross-validation score: {:.2f}\".format(grid_SGD.best_score_))\n",
    "print(\"Best parameters: {}\".format(grid_SGD.best_params_))\n",
    "print(\"Training Score: {}\".format(grid_SGD.score(X_train_pca, y_train_pca)))\n",
    "print(\"Testing Score: {}\".format(grid_SGD.score(X_test_pca, y_test_pca)))"
   ]
  },
  {
   "cell_type": "code",
   "execution_count": 69,
   "metadata": {},
   "outputs": [],
   "source": [
    "report_table.append({'Model_name':'SGDReg',\n",
    "                    'Paramater':grid_SGD.best_params_,\n",
    "                    'Training_score': grid_SGD.score(X_train_pca, y_train_pca),\n",
    "                    'Test Score':grid_SGD.score(X_test_pca, y_test_pca)})"
   ]
  },
  {
   "cell_type": "markdown",
   "metadata": {},
   "source": [
    "## Polynomial With PCA"
   ]
  },
  {
   "cell_type": "code",
   "execution_count": 70,
   "metadata": {},
   "outputs": [
    {
     "name": "stdout",
     "output_type": "stream",
     "text": [
      "[0.8528785301375201, 0.8530261609307799]\n",
      "[0.8349194455351795, 0.9138973112367501]\n"
     ]
    }
   ],
   "source": [
    "from sklearn.preprocessing  import PolynomialFeatures\n",
    "train_score_list = []\n",
    "test_score_list = []\n",
    "lreg_poly = LinearRegression()\n",
    "\n",
    "for n in range(1,3):\n",
    "    poly = PolynomialFeatures(n)\n",
    "    X_train_poly = poly.fit_transform(X_train_pca)\n",
    "    X_test_poly = poly.transform(X_test_pca)\n",
    "    scores_train = cross_val_score(lreg_poly, X_train_poly, y_train_pca, cv=5)\n",
    "    train_score_list.append(scores_train.mean())\n",
    "    lreg_poly.fit(X_train_poly,y_train_pca)\n",
    "    scores_test = lreg_poly.score(X_test_poly,y_test_pca)\n",
    "    test_score_list.append(scores_test)\n",
    "\n",
    "print(train_score_list)\n",
    "print(test_score_list)"
   ]
  },
  {
   "cell_type": "code",
   "execution_count": 71,
   "metadata": {},
   "outputs": [
    {
     "data": {
      "image/png": "[encoded data removed]",
      "text/plain": [
       "<matplotlib.figure.Figure at 0x7f84c3cd3d30>"
      ]
     },
     "metadata": {},
     "output_type": "display_data"
    }
   ],
   "source": [
    "%matplotlib inline\n",
    "x_axis = range(1,3)\n",
    "plt.plot(x_axis, train_score_list, c = 'g', label = 'Train Score')\n",
    "plt.plot(x_axis, test_score_list, c = 'b', label = 'Test Score')\n",
    "plt.xlabel('degree')\n",
    "plt.ylabel('accuracy')\n",
    "plt.legend()\n",
    "plt.show()"
   ]
  },
  {
   "cell_type": "code",
   "execution_count": 72,
   "metadata": {},
   "outputs": [],
   "source": [
    "report_table.append({'Model_name':'PolyReg',\n",
    "                    'Paramater':{'degree':1},\n",
    "                    'Training_score':train_score_list[0],\n",
    "                    'Test Score':test_score_list[0]\n",
    "                    })"
   ]
  },
  {
   "cell_type": "markdown",
   "metadata": {},
   "source": [
    "## Ridge Regression Using PCA"
   ]
  },
  {
   "cell_type": "code",
   "execution_count": 74,
   "metadata": {},
   "outputs": [
    {
     "name": "stdout",
     "output_type": "stream",
     "text": [
      "Parameter grid:\n",
      "{'alpha': array([1.00000000e-03, 3.16227766e-03, 1.00000000e-02, 3.16227766e-02,\n",
      "       1.00000000e-01, 3.16227766e-01, 1.00000000e+00, 3.16227766e+00,\n",
      "       1.00000000e+01, 3.16227766e+01, 1.00000000e+02, 3.16227766e+02,\n",
      "       1.00000000e+03])}\n"
     ]
    }
   ],
   "source": [
    "from sklearn.linear_model import Ridge\n",
    "from sklearn.model_selection import GridSearchCV\n",
    "model = Ridge(random_state=0)\n",
    "param_Ridge = {'alpha': np.logspace(-3, 3, 13)}\n",
    "print(\"Parameter grid:\\n{}\".format(param_Ridge))\n",
    "grid_Ridge = GridSearchCV(estimator = model,param_grid = param_Ridge, cv=5, return_train_score=True,scoring='r2',n_jobs=n_jobs)"
   ]
  },
  {
   "cell_type": "code",
   "execution_count": 75,
   "metadata": {},
   "outputs": [
    {
     "data": {
      "text/plain": [
       "GridSearchCV(cv=5, error_score='raise',\n",
       "       estimator=Ridge(alpha=1.0, copy_X=True, fit_intercept=True, max_iter=None,\n",
       "   normalize=False, random_state=0, solver='auto', tol=0.001),\n",
       "       fit_params=None, iid=True, n_jobs=16,\n",
       "       param_grid={'alpha': array([1.00000e-03, 3.16228e-03, 1.00000e-02, 3.16228e-02, 1.00000e-01,\n",
       "       3.16228e-01, 1.00000e+00, 3.16228e+00, 1.00000e+01, 3.16228e+01,\n",
       "       1.00000e+02, 3.16228e+02, 1.00000e+03])},\n",
       "       pre_dispatch='2*n_jobs', refit=True, return_train_score=True,\n",
       "       scoring='r2', verbose=0)"
      ]
     },
     "execution_count": 75,
     "metadata": {},
     "output_type": "execute_result"
    }
   ],
   "source": [
    "grid_Ridge.fit(X_train_pca, y_train_pca)"
   ]
  },
  {
   "cell_type": "code",
   "execution_count": 76,
   "metadata": {},
   "outputs": [
    {
     "data": {
      "image/png": "[encoded data removed]",
      "text/plain": [
       "<matplotlib.figure.Figure at 0x7f84c3b08e80>"
      ]
     },
     "metadata": {},
     "output_type": "display_data"
    }
   ],
   "source": [
    "alphas = np.logspace(-3, 3, 13)\n",
    "\n",
    "train_scores_mean = grid_Ridge.cv_results_[\"mean_train_score\"]\n",
    "train_scores_std = grid_Ridge.cv_results_[\"std_train_score\"]\n",
    "test_scores_mean = grid_Ridge.cv_results_[\"mean_test_score\"]\n",
    "test_scores_std = grid_Ridge.cv_results_[\"std_test_score\"]\n",
    "\n",
    "plt.figure(figsize = (12,8))\n",
    "plt.title('Model')\n",
    "plt.xlabel('$\\\\alpha$ (alpha)')\n",
    "plt.ylabel('Score')\n",
    "# plot train scores\n",
    "plt.semilogx(alphas, train_scores_mean, label='Mean Train score',\n",
    "             color='navy')\n",
    "# create a shaded area between [mean - std, mean + std]\n",
    "plt.gca().fill_between(alphas,\n",
    "                       train_scores_mean - train_scores_std,\n",
    "                       train_scores_mean + train_scores_std,\n",
    "                       alpha=0.2,\n",
    "                       color='navy')\n",
    "plt.semilogx(alphas, test_scores_mean,\n",
    "             label='Mean Test score', color='darkorange')\n",
    "\n",
    "# create a shaded area between [mean - std, mean + std]\n",
    "plt.gca().fill_between(alphas,\n",
    "                       test_scores_mean - test_scores_std,\n",
    "                       test_scores_mean + test_scores_std,\n",
    "                       alpha=0.2,\n",
    "                       color='darkorange')\n",
    "\n",
    "plt.legend(loc='best')\n",
    "plt.show()"
   ]
  },
  {
   "cell_type": "code",
   "execution_count": 77,
   "metadata": {},
   "outputs": [
    {
     "name": "stdout",
     "output_type": "stream",
     "text": [
      "Best cross-validation score: 0.85\n",
      "Best parameters: {'alpha': 10.0}\n",
      "Training Score: 0.8516010437021877\n",
      "Testing Score: 0.8314918656585073\n"
     ]
    }
   ],
   "source": [
    "print(\"Best cross-validation score: {:.2f}\".format(grid_Ridge.best_score_))\n",
    "print(\"Best parameters: {}\".format(grid_Ridge.best_params_))\n",
    "print(\"Training Score: {}\".format(grid_Ridge.score(X_train_pca, y_train_pca)))\n",
    "print(\"Testing Score: {}\".format(grid_Ridge.score(X_test_pca, y_test_pca)))"
   ]
  },
  {
   "cell_type": "code",
   "execution_count": 78,
   "metadata": {},
   "outputs": [],
   "source": [
    "report_table.append({'Model_name':'Ridge',\n",
    "                    'Paramater':grid_Ridge.best_params_,\n",
    "                    'Training_score':grid_Ridge.score(X_train_pca, y_train_pca),\n",
    "                    'Test Score':grid_Ridge.score(X_test_pca, y_test_pca)\n",
    "                    })"
   ]
  },
  {
   "cell_type": "markdown",
   "metadata": {},
   "source": [
    "## Lasso With PCA"
   ]
  },
  {
   "cell_type": "code",
   "execution_count": 79,
   "metadata": {},
   "outputs": [],
   "source": [
    "import warnings\n",
    "warnings.filterwarnings('ignore')"
   ]
  },
  {
   "cell_type": "code",
   "execution_count": 80,
   "metadata": {},
   "outputs": [
    {
     "name": "stdout",
     "output_type": "stream",
     "text": [
      "Parameter grid:\n",
      "{'alpha': array([1.00000000e-03, 3.16227766e-03, 1.00000000e-02, 3.16227766e-02,\n",
      "       1.00000000e-01, 3.16227766e-01, 1.00000000e+00, 3.16227766e+00,\n",
      "       1.00000000e+01, 3.16227766e+01, 1.00000000e+02, 3.16227766e+02,\n",
      "       1.00000000e+03])}\n"
     ]
    }
   ],
   "source": [
    "from  sklearn.linear_model import Lasso\n",
    "model_Lasso = Lasso(random_state=0)\n",
    "param_Lasso = {'alpha': np.logspace(-3, 3, 13)}\n",
    "print(\"Parameter grid:\\n{}\".format(param_Lasso))\n",
    "grid_Lasso = GridSearchCV(model_Lasso, param_grid = param_Lasso, cv=5, return_train_score=True, n_jobs=n_jobs)"
   ]
  },
  {
   "cell_type": "code",
   "execution_count": 81,
   "metadata": {},
   "outputs": [
    {
     "data": {
      "text/plain": [
       "GridSearchCV(cv=5, error_score='raise',\n",
       "       estimator=Lasso(alpha=1.0, copy_X=True, fit_intercept=True, max_iter=1000,\n",
       "   normalize=False, positive=False, precompute=False, random_state=0,\n",
       "   selection='cyclic', tol=0.0001, warm_start=False),\n",
       "       fit_params=None, iid=True, n_jobs=16,\n",
       "       param_grid={'alpha': array([1.00000e-03, 3.16228e-03, 1.00000e-02, 3.16228e-02, 1.00000e-01,\n",
       "       3.16228e-01, 1.00000e+00, 3.16228e+00, 1.00000e+01, 3.16228e+01,\n",
       "       1.00000e+02, 3.16228e+02, 1.00000e+03])},\n",
       "       pre_dispatch='2*n_jobs', refit=True, return_train_score=True,\n",
       "       scoring=None, verbose=0)"
      ]
     },
     "execution_count": 81,
     "metadata": {},
     "output_type": "execute_result"
    }
   ],
   "source": [
    "grid_Lasso.fit(X_train_pca, y_train_pca)"
   ]
  },
  {
   "cell_type": "code",
   "execution_count": 82,
   "metadata": {},
   "outputs": [
    {
     "data": {
      "image/png": "[encoded data removed]",
      "text/plain": [
       "<matplotlib.figure.Figure at 0x7f84c3d07550>"
      ]
     },
     "metadata": {},
     "output_type": "display_data"
    }
   ],
   "source": [
    "alphas = np.logspace(-3, 3, 13)\n",
    "\n",
    "train_scores_mean = grid_Lasso.cv_results_[\"mean_train_score\"]\n",
    "train_scores_std = grid_Lasso.cv_results_[\"std_train_score\"]\n",
    "test_scores_mean = grid_Lasso.cv_results_[\"mean_test_score\"]\n",
    "test_scores_std = grid_Lasso.cv_results_[\"std_test_score\"]\n",
    "\n",
    "plt.figure(figsize = (12,8))\n",
    "plt.title('Model')\n",
    "plt.xlabel('$\\\\alpha$ (alpha)')\n",
    "plt.ylabel('Score')\n",
    "# plot train scores\n",
    "plt.semilogx(alphas, train_scores_mean, label='Mean Train score',\n",
    "             color='navy')\n",
    "# create a shaded area between [mean - std, mean + std]\n",
    "plt.gca().fill_between(alphas,\n",
    "                       train_scores_mean - train_scores_std,\n",
    "                       train_scores_mean + train_scores_std,\n",
    "                       alpha=0.2,\n",
    "                       color='navy')\n",
    "plt.semilogx(alphas, test_scores_mean,\n",
    "             label='Mean Test score', color='darkorange')\n",
    "\n",
    "# create a shaded area between [mean - std, mean + std]\n",
    "plt.gca().fill_between(alphas,\n",
    "                       test_scores_mean - test_scores_std,\n",
    "                       test_scores_mean + test_scores_std,\n",
    "                       alpha=0.2,\n",
    "                       color='darkorange')\n",
    "\n",
    "plt.legend(loc='best')\n",
    "plt.show()"
   ]
  },
  {
   "cell_type": "code",
   "execution_count": 83,
   "metadata": {
    "scrolled": true
   },
   "outputs": [
    {
     "name": "stdout",
     "output_type": "stream",
     "text": [
      "Best cross-validation score: 0.85\n",
      "Best parameters: {'alpha': 0.31622776601683794}\n",
      "Training Score: 0.8517587404045909\n",
      "Testing Score: 0.8338203013954705\n"
     ]
    }
   ],
   "source": [
    "print(\"Best cross-validation score: {:.2f}\".format(grid_Lasso.best_score_))\n",
    "print(\"Best parameters: {}\".format(grid_Lasso.best_params_))\n",
    "print(\"Training Score: {}\".format(grid_Lasso.score(X_train_pca, y_train_pca)))\n",
    "print(\"Testing Score: {}\".format(grid_Lasso.score(X_test_pca, y_test_pca)))"
   ]
  },
  {
   "cell_type": "code",
   "execution_count": 84,
   "metadata": {},
   "outputs": [],
   "source": [
    "report_table.append({'Model_name':'Lasso',\n",
    "                    'Paramater':grid_Lasso.best_params_,\n",
    "                    'Training_score':grid_Lasso.score(X_train_pca, y_train_pca),\n",
    "                    'Test Score':grid_Lasso.score(X_test_pca, y_test_pca)\n",
    "                    })"
   ]
  },
  {
   "cell_type": "markdown",
   "metadata": {},
   "source": [
    "## SVM with Linear Kernel"
   ]
  },
  {
   "cell_type": "code",
   "execution_count": 85,
   "metadata": {},
   "outputs": [
    {
     "name": "stdout",
     "output_type": "stream",
     "text": [
      "Parameter grid:\n",
      "{'C': [0.001, 0.01, 0.1, 1, 10, 100]}\n"
     ]
    }
   ],
   "source": [
    "from sklearn.svm import LinearSVR\n",
    "model_Linear_SVM = LinearSVR(random_state=0)\n",
    "param_Linear_SVM = {'C':[0.001, 0.01, 0.1, 1, 10, 100]}\n",
    "print(\"Parameter grid:\\n{}\".format(param_Linear_SVM))\n",
    "grid_Linear_SVM = GridSearchCV(model_Linear_SVM, param_grid = param_Linear_SVM, cv=5, return_train_score=True,n_jobs=n_jobs)"
   ]
  },
  {
   "cell_type": "code",
   "execution_count": 86,
   "metadata": {},
   "outputs": [
    {
     "data": {
      "text/plain": [
       "GridSearchCV(cv=5, error_score='raise',\n",
       "       estimator=LinearSVR(C=1.0, dual=True, epsilon=0.0, fit_intercept=True,\n",
       "     intercept_scaling=1.0, loss='epsilon_insensitive', max_iter=1000,\n",
       "     random_state=0, tol=0.0001, verbose=0),\n",
       "       fit_params=None, iid=True, n_jobs=16,\n",
       "       param_grid={'C': [0.001, 0.01, 0.1, 1, 10, 100]},\n",
       "       pre_dispatch='2*n_jobs', refit=True, return_train_score=True,\n",
       "       scoring=None, verbose=0)"
      ]
     },
     "execution_count": 86,
     "metadata": {},
     "output_type": "execute_result"
    }
   ],
   "source": [
    "grid_Linear_SVM.fit(X_train_pca, y_train_pca)"
   ]
  },
  {
   "cell_type": "code",
   "execution_count": 87,
   "metadata": {},
   "outputs": [
    {
     "data": {
      "image/png": "[encoded data removed]",
      "text/plain": [
       "<matplotlib.figure.Figure at 0x7f84c3b9fcc0>"
      ]
     },
     "metadata": {},
     "output_type": "display_data"
    }
   ],
   "source": [
    "C = [0.001, 0.01, 0.1, 1, 10, 100]\n",
    "\n",
    "train_scores_mean = grid_Linear_SVM.cv_results_[\"mean_train_score\"]\n",
    "train_scores_std = grid_Linear_SVM.cv_results_[\"std_train_score\"]\n",
    "test_scores_mean = grid_Linear_SVM.cv_results_[\"mean_test_score\"]\n",
    "test_scores_std = grid_Linear_SVM.cv_results_[\"std_test_score\"]\n",
    "\n",
    "plt.figure(figsize = (12,8))\n",
    "plt.title('Model')\n",
    "plt.xlabel('$\\\\alpha$ (alpha)')\n",
    "plt.ylabel('Score')\n",
    "# plot train scores\n",
    "plt.semilogx(C, train_scores_mean, label='Mean Train score',\n",
    "             color='navy')\n",
    "# create a shaded area between [mean - std, mean + std]\n",
    "plt.gca().fill_between(C,\n",
    "                       train_scores_mean - train_scores_std,\n",
    "                       train_scores_mean + train_scores_std,\n",
    "                       alpha=0.2,\n",
    "                       color='navy')\n",
    "plt.semilogx(C, test_scores_mean,\n",
    "             label='Mean Test score', color='darkorange')\n",
    "\n",
    "# create a shaded area between [mean - std, mean + std]\n",
    "plt.gca().fill_between(C,\n",
    "                       test_scores_mean - test_scores_std,\n",
    "                       test_scores_mean + test_scores_std,\n",
    "                       alpha=0.2,\n",
    "                       color='darkorange')\n",
    "\n",
    "plt.legend(loc='best')\n",
    "plt.show()"
   ]
  },
  {
   "cell_type": "code",
   "execution_count": 88,
   "metadata": {},
   "outputs": [
    {
     "name": "stdout",
     "output_type": "stream",
     "text": [
      "Best cross-validation score: 0.84\n",
      "Best parameters: {'C': 100}\n",
      "Training Score: 0.8309876964297753\n",
      "Testing Score: 0.786654566279616\n"
     ]
    }
   ],
   "source": [
    "print(\"Best cross-validation score: {:.2f}\".format(grid_Linear_SVM.best_score_))\n",
    "print(\"Best parameters: {}\".format(grid_Linear_SVM.best_params_))\n",
    "print(\"Training Score: {}\".format(grid_Linear_SVM.score(X_train_pca, y_train_pca)))\n",
    "print(\"Testing Score: {}\".format(grid_Linear_SVM.score(X_test_pca, y_test_pca)))"
   ]
  },
  {
   "cell_type": "code",
   "execution_count": 89,
   "metadata": {},
   "outputs": [],
   "source": [
    "report_table.append({'Model_name':'LinearSVR',\n",
    "                    'Paramater':grid_Linear_SVM.best_params_,\n",
    "                    'Training_score':grid_Linear_SVM.score(X_train_pca, y_train_pca),\n",
    "                    'Test Score':grid_Linear_SVM.score(X_test_pca, y_test_pca)\n",
    "                    })"
   ]
  },
  {
   "cell_type": "markdown",
   "metadata": {},
   "source": [
    "## SVM with Radial Kernel"
   ]
  },
  {
   "cell_type": "code",
   "execution_count": 108,
   "metadata": {},
   "outputs": [],
   "source": [
    "from sklearn.svm import SVR\n",
    "model_Radial_SVM = SVR(C= 100, gamma = 0.1, kernel = 'rbf')"
   ]
  },
  {
   "cell_type": "code",
   "execution_count": 109,
   "metadata": {},
   "outputs": [
    {
     "data": {
      "text/plain": [
       "SVR(C=100, cache_size=200, coef0=0.0, degree=3, epsilon=0.1, gamma=0.1,\n",
       "  kernel='rbf', max_iter=-1, shrinking=True, tol=0.001, verbose=False)"
      ]
     },
     "execution_count": 109,
     "metadata": {},
     "output_type": "execute_result"
    }
   ],
   "source": [
    "model_Radial_SVM.fit(X_train_pca, y_train_pca)"
   ]
  },
  {
   "cell_type": "code",
   "execution_count": 113,
   "metadata": {},
   "outputs": [
    {
     "name": "stdout",
     "output_type": "stream",
     "text": [
      "Training Score: 0.7664659612396879\n",
      "Testing Score: 0.506206079481053\n"
     ]
    }
   ],
   "source": [
    "print(\"Training Score: {}\".format(model_Radial_SVM.score(X_train_pca, y_train_pca)))\n",
    "print(\"Testing Score: {}\".format(model_Radial_SVM.score(X_test_pca, y_test_pca)))"
   ]
  },
  {
   "cell_type": "code",
   "execution_count": 114,
   "metadata": {},
   "outputs": [],
   "source": [
    "report_table.append({'Model_name':'RadialKernel',\n",
    "                    'Paramater':'C:100,gamma:0.1',\n",
    "                    'Training_score':model_Radial_SVM.score(X_train_pca, y_train_pca),\n",
    "                    'Test Score':model_Radial_SVM.score(X_test_pca, y_test_pca)\n",
    "                    })"
   ]
  },
  {
   "cell_type": "markdown",
   "metadata": {},
   "source": [
    "## SVM with Polynomial Kernel"
   ]
  },
  {
   "cell_type": "code",
   "execution_count": 128,
   "metadata": {},
   "outputs": [],
   "source": [
    "model_Poly_SVM = SVR(kernel = 'poly', degree = 2, C= 100)"
   ]
  },
  {
   "cell_type": "code",
   "execution_count": 129,
   "metadata": {},
   "outputs": [
    {
     "data": {
      "text/plain": [
       "SVR(C=100, cache_size=200, coef0=0.0, degree=2, epsilon=0.1, gamma='auto',\n",
       "  kernel='poly', max_iter=-1, shrinking=True, tol=0.001, verbose=False)"
      ]
     },
     "execution_count": 129,
     "metadata": {},
     "output_type": "execute_result"
    }
   ],
   "source": [
    "model_Poly_SVM.fit(X_train_pca, y_train_pca)"
   ]
  },
  {
   "cell_type": "code",
   "execution_count": 130,
   "metadata": {},
   "outputs": [
    {
     "name": "stdout",
     "output_type": "stream",
     "text": [
      "Training Score: 0.38192708143684095\n",
      "Testing Score: 0.5826335153748621\n"
     ]
    }
   ],
   "source": [
    "print(\"Training Score: {}\".format(model_Poly_SVM.score(X_train_pca, y_train_pca)))\n",
    "print(\"Testing Score: {}\".format(model_Poly_SVM.score(X_test_pca, y_test_pca)))"
   ]
  },
  {
   "cell_type": "code",
   "execution_count": 131,
   "metadata": {},
   "outputs": [],
   "source": [
    "report_table.append({'Model_name':'PolyKernel',\n",
    "                    'Paramater':'degree:2, C:100',\n",
    "                    'Training_score':model_Poly_SVM.score(X_train_pca, y_train_pca),\n",
    "                    'Test Score':model_Poly_SVM.score(X_test_pca, y_test_pca)\n",
    "                    })"
   ]
  },
  {
   "cell_type": "code",
   "execution_count": 132,
   "metadata": {},
   "outputs": [],
   "source": [
    "report = pd.DataFrame(report_table)\n",
    "report.set_index('Model_name', inplace = True)"
   ]
  },
  {
   "cell_type": "markdown",
   "metadata": {},
   "source": [
    "## Model Performance Report with PCA"
   ]
  },
  {
   "cell_type": "code",
   "execution_count": 133,
   "metadata": {},
   "outputs": [
    {
     "data": {
      "text/html": [
       "<div>\n",
       "<style scoped>\n",
       "    .dataframe tbody tr th:only-of-type {\n",
       "        vertical-align: middle;\n",
       "    }\n",
       "\n",
       "    .dataframe tbody tr th {\n",
       "        vertical-align: top;\n",
       "    }\n",
       "\n",
       "    .dataframe thead th {\n",
       "        text-align: right;\n",
       "    }\n",
       "</style>\n",
       "<table border=\"1\" class=\"dataframe\">\n",
       "  <thead>\n",
       "    <tr style=\"text-align: right;\">\n",
       "      <th></th>\n",
       "      <th>Paramater</th>\n",
       "      <th>Test Score</th>\n",
       "      <th>Training_score</th>\n",
       "    </tr>\n",
       "    <tr>\n",
       "      <th>Model_name</th>\n",
       "      <th></th>\n",
       "      <th></th>\n",
       "      <th></th>\n",
       "    </tr>\n",
       "  </thead>\n",
       "  <tbody>\n",
       "    <tr>\n",
       "      <th>KNN</th>\n",
       "      <td>{'n_neighbors': 15}</td>\n",
       "      <td>0.713845</td>\n",
       "      <td>0.870474</td>\n",
       "    </tr>\n",
       "    <tr>\n",
       "      <th>LinearRegression</th>\n",
       "      <td>No Parameter</td>\n",
       "      <td>0.834919</td>\n",
       "      <td>0.852879</td>\n",
       "    </tr>\n",
       "    <tr>\n",
       "      <th>SGDReg</th>\n",
       "      <td>{'learning_rate': 'optimal', 'max_iter': 1000,...</td>\n",
       "      <td>0.833398</td>\n",
       "      <td>0.851751</td>\n",
       "    </tr>\n",
       "    <tr>\n",
       "      <th>PolyReg</th>\n",
       "      <td>{'degree': 1}</td>\n",
       "      <td>0.834919</td>\n",
       "      <td>0.852879</td>\n",
       "    </tr>\n",
       "    <tr>\n",
       "      <th>Ridge</th>\n",
       "      <td>{'alpha': 10.0}</td>\n",
       "      <td>0.831492</td>\n",
       "      <td>0.851601</td>\n",
       "    </tr>\n",
       "    <tr>\n",
       "      <th>Lasso</th>\n",
       "      <td>{'alpha': 0.31622776601683794}</td>\n",
       "      <td>0.833820</td>\n",
       "      <td>0.851759</td>\n",
       "    </tr>\n",
       "    <tr>\n",
       "      <th>LinearSVR</th>\n",
       "      <td>{'C': 100}</td>\n",
       "      <td>0.786655</td>\n",
       "      <td>0.830988</td>\n",
       "    </tr>\n",
       "    <tr>\n",
       "      <th>RadialKernel</th>\n",
       "      <td>C:100,gamma:0.1</td>\n",
       "      <td>0.506206</td>\n",
       "      <td>0.766466</td>\n",
       "    </tr>\n",
       "    <tr>\n",
       "      <th>PolyKernel</th>\n",
       "      <td>degree:2, C:100</td>\n",
       "      <td>0.582634</td>\n",
       "      <td>0.381927</td>\n",
       "    </tr>\n",
       "    <tr>\n",
       "      <th>PolyKernel</th>\n",
       "      <td>degree:2, C:100</td>\n",
       "      <td>0.378238</td>\n",
       "      <td>0.069858</td>\n",
       "    </tr>\n",
       "    <tr>\n",
       "      <th>PolyKernel</th>\n",
       "      <td>degree:2, C:100</td>\n",
       "      <td>0.582634</td>\n",
       "      <td>0.381927</td>\n",
       "    </tr>\n",
       "  </tbody>\n",
       "</table>\n",
       "</div>"
      ],
      "text/plain": [
       "                                                          Paramater  \\\n",
       "Model_name                                                            \n",
       "KNN                                             {'n_neighbors': 15}   \n",
       "LinearRegression                                       No Parameter   \n",
       "SGDReg            {'learning_rate': 'optimal', 'max_iter': 1000,...   \n",
       "PolyReg                                               {'degree': 1}   \n",
       "Ridge                                               {'alpha': 10.0}   \n",
       "Lasso                                {'alpha': 0.31622776601683794}   \n",
       "LinearSVR                                                {'C': 100}   \n",
       "RadialKernel                                        C:100,gamma:0.1   \n",
       "PolyKernel                                          degree:2, C:100   \n",
       "PolyKernel                                          degree:2, C:100   \n",
       "PolyKernel                                          degree:2, C:100   \n",
       "\n",
       "                  Test Score  Training_score  \n",
       "Model_name                                    \n",
       "KNN                 0.713845        0.870474  \n",
       "LinearRegression    0.834919        0.852879  \n",
       "SGDReg              0.833398        0.851751  \n",
       "PolyReg             0.834919        0.852879  \n",
       "Ridge               0.831492        0.851601  \n",
       "Lasso               0.833820        0.851759  \n",
       "LinearSVR           0.786655        0.830988  \n",
       "RadialKernel        0.506206        0.766466  \n",
       "PolyKernel          0.582634        0.381927  \n",
       "PolyKernel          0.378238        0.069858  \n",
       "PolyKernel          0.582634        0.381927  "
      ]
     },
     "execution_count": 133,
     "metadata": {},
     "output_type": "execute_result"
    }
   ],
   "source": [
    "report"
   ]
  },
  {
   "cell_type": "markdown",
   "metadata": {},
   "source": [
    "## Report from Project -2 ( Without PCA)"
   ]
  },
  {
   "cell_type": "code",
   "execution_count": 52,
   "metadata": {},
   "outputs": [
    {
     "data": {
      "image/png": "[encoded data removed]",
      "text/plain": [
       "<IPython.core.display.Image object>"
      ]
     },
     "execution_count": 52,
     "metadata": {},
     "output_type": "execute_result"
    }
   ],
   "source": [
    "from IPython.display import Image\n",
    "Image(filename='image.PNG')"
   ]
  },
  {
   "cell_type": "markdown",
   "metadata": {},
   "source": [
    "## ###  As we can see from the two reports, for most models the train and test r2 score  is reduced when applied on the PCA transformed data. This can be attributed to the fact that, we have taken only 8 principal componets that explain only 98% variance of the original dataset. So resulting 2% variance loss is causing the models to have a slight decrease in  accuracy. "
   ]
  },
  {
   "cell_type": "code",
   "execution_count": 16,
   "metadata": {},
   "outputs": [],
   "source": [
    "import tensorflow as tf"
   ]
  },
  {
   "cell_type": "code",
   "execution_count": 17,
   "metadata": {},
   "outputs": [],
   "source": [
    "from keras.models import Sequential\n",
    "from keras.layers import Dense\n",
    "import numpy\n",
    "# fix random seed for reproducibility\n",
    "numpy.random.seed(10)"
   ]
  },
  {
   "cell_type": "code",
   "execution_count": 47,
   "metadata": {},
   "outputs": [],
   "source": [
    "# create model\n",
    "model = Sequential()\n",
    "model.add(Dense(100, input_dim=77, kernel_initializer='normal', activation='relu'))\n",
    "model.add(Dense(50, kernel_initializer='normal', activation='relu'))\n",
    "model.add(Dense(50, kernel_initializer='normal', activation='relu'))\n",
    "model.add(Dense(1, kernel_initializer='normal'))"
   ]
  },
  {
   "cell_type": "code",
   "execution_count": 48,
   "metadata": {},
   "outputs": [],
   "source": [
    "# Compile model\n",
    "model.compile(loss='mse', optimizer='adam' , metrics = ['mse'])"
   ]
  },
  {
   "cell_type": "code",
   "execution_count": 49,
   "metadata": {
    "scrolled": true
   },
   "outputs": [
    {
     "name": "stdout",
     "output_type": "stream",
     "text": [
      "Epoch 1/500\n",
      "43743/43743 [==============================] - 1s 31us/step - loss: 355980.7616 - mean_squared_error: 355980.7616\n",
      "Epoch 2/500\n",
      "43743/43743 [==============================] - 1s 18us/step - loss: 71507.4529 - mean_squared_error: 71507.4529\n",
      "Epoch 3/500\n",
      "43743/43743 [==============================] - 1s 18us/step - loss: 59664.2252 - mean_squared_error: 59664.2252\n",
      "Epoch 4/500\n",
      "43743/43743 [==============================] - 1s 18us/step - loss: 58952.0630 - mean_squared_error: 58952.0630\n",
      "Epoch 5/500\n",
      "43743/43743 [==============================] - 1s 18us/step - loss: 56030.7601 - mean_squared_error: 56030.7601\n",
      "Epoch 6/500\n",
      "43743/43743 [==============================] - 1s 18us/step - loss: 55722.5523 - mean_squared_error: 55722.5523\n",
      "Epoch 7/500\n",
      "43743/43743 [==============================] - 1s 18us/step - loss: 54111.6101 - mean_squared_error: 54111.6101\n",
      "Epoch 8/500\n",
      "43743/43743 [==============================] - 1s 18us/step - loss: 52990.6156 - mean_squared_error: 52990.6156\n",
      "Epoch 9/500\n",
      "43743/43743 [==============================] - 1s 18us/step - loss: 51969.2654 - mean_squared_error: 51969.2654\n",
      "Epoch 10/500\n",
      "43743/43743 [==============================] - 1s 18us/step - loss: 50869.2603 - mean_squared_error: 50869.2603\n",
      "Epoch 11/500\n",
      "43743/43743 [==============================] - 1s 18us/step - loss: 49078.1659 - mean_squared_error: 49078.1659\n",
      "Epoch 12/500\n",
      "43743/43743 [==============================] - 1s 18us/step - loss: 47769.7642 - mean_squared_error: 47769.7642\n",
      "Epoch 13/500\n",
      "43743/43743 [==============================] - 1s 18us/step - loss: 46151.1382 - mean_squared_error: 46151.1382\n",
      "Epoch 14/500\n",
      "43743/43743 [==============================] - 1s 18us/step - loss: 46773.1764 - mean_squared_error: 46773.1764\n",
      "Epoch 15/500\n",
      "43743/43743 [==============================] - 1s 18us/step - loss: 43261.9868 - mean_squared_error: 43261.9868\n",
      "Epoch 16/500\n",
      "43743/43743 [==============================] - 1s 18us/step - loss: 44765.4057 - mean_squared_error: 44765.4057\n",
      "Epoch 17/500\n",
      "43743/43743 [==============================] - 1s 18us/step - loss: 42066.8177 - mean_squared_error: 42066.8177\n",
      "Epoch 18/500\n",
      "43743/43743 [==============================] - 1s 18us/step - loss: 41522.0185 - mean_squared_error: 41522.0185\n",
      "Epoch 19/500\n",
      "43743/43743 [==============================] - 1s 18us/step - loss: 40188.7346 - mean_squared_error: 40188.7346\n",
      "Epoch 20/500\n",
      "43743/43743 [==============================] - 1s 20us/step - loss: 40078.7292 - mean_squared_error: 40078.7292\n",
      "Epoch 21/500\n",
      "43743/43743 [==============================] - 1s 19us/step - loss: 38418.7026 - mean_squared_error: 38418.7026\n",
      "Epoch 22/500\n",
      "43743/43743 [==============================] - 1s 18us/step - loss: 37638.7659 - mean_squared_error: 37638.7659\n",
      "Epoch 23/500\n",
      "43743/43743 [==============================] - 1s 18us/step - loss: 37688.1854 - mean_squared_error: 37688.1854\n",
      "Epoch 24/500\n",
      "43743/43743 [==============================] - 1s 18us/step - loss: 35877.4737 - mean_squared_error: 35877.4737\n",
      "Epoch 25/500\n",
      "43743/43743 [==============================] - 1s 18us/step - loss: 36007.9526 - mean_squared_error: 36007.9526\n",
      "Epoch 26/500\n",
      "43743/43743 [==============================] - 1s 18us/step - loss: 34532.8127 - mean_squared_error: 34532.8127\n",
      "Epoch 27/500\n",
      "43743/43743 [==============================] - 1s 18us/step - loss: 33741.9405 - mean_squared_error: 33741.9405\n",
      "Epoch 28/500\n",
      "43743/43743 [==============================] - 1s 18us/step - loss: 33267.1514 - mean_squared_error: 33267.1514\n",
      "Epoch 29/500\n",
      "43743/43743 [==============================] - 1s 18us/step - loss: 33528.2863 - mean_squared_error: 33528.2863\n",
      "Epoch 30/500\n",
      "43743/43743 [==============================] - 1s 18us/step - loss: 32033.1105 - mean_squared_error: 32033.1105\n",
      "Epoch 31/500\n",
      "43743/43743 [==============================] - 1s 18us/step - loss: 31467.8742 - mean_squared_error: 31467.8742\n",
      "Epoch 32/500\n",
      "43743/43743 [==============================] - 1s 18us/step - loss: 30193.8581 - mean_squared_error: 30193.8581\n",
      "Epoch 33/500\n",
      "43743/43743 [==============================] - 1s 18us/step - loss: 29849.8065 - mean_squared_error: 29849.8065\n",
      "Epoch 34/500\n",
      "43743/43743 [==============================] - 1s 18us/step - loss: 29965.8326 - mean_squared_error: 29965.8326\n",
      "Epoch 35/500\n",
      "43743/43743 [==============================] - 1s 18us/step - loss: 28559.7157 - mean_squared_error: 28559.7157\n",
      "Epoch 36/500\n",
      "43743/43743 [==============================] - 1s 18us/step - loss: 27605.4726 - mean_squared_error: 27605.4726\n",
      "Epoch 37/500\n",
      "43743/43743 [==============================] - 1s 18us/step - loss: 27794.8566 - mean_squared_error: 27794.8566\n",
      "Epoch 38/500\n",
      "43743/43743 [==============================] - 1s 18us/step - loss: 27134.1649 - mean_squared_error: 27134.1649\n",
      "Epoch 39/500\n",
      "43743/43743 [==============================] - 1s 18us/step - loss: 26905.7946 - mean_squared_error: 26905.7946\n",
      "Epoch 40/500\n",
      "43743/43743 [==============================] - 1s 18us/step - loss: 27357.6034 - mean_squared_error: 27357.6034\n",
      "Epoch 41/500\n",
      "43743/43743 [==============================] - 1s 19us/step - loss: 26514.3280 - mean_squared_error: 26514.3280\n",
      "Epoch 42/500\n",
      "43743/43743 [==============================] - 1s 18us/step - loss: 25913.5309 - mean_squared_error: 25913.5309\n",
      "Epoch 43/500\n",
      "43743/43743 [==============================] - 1s 18us/step - loss: 25690.2120 - mean_squared_error: 25690.2120\n",
      "Epoch 44/500\n",
      "43743/43743 [==============================] - 1s 18us/step - loss: 25026.7749 - mean_squared_error: 25026.7749\n",
      "Epoch 45/500\n",
      "43743/43743 [==============================] - 1s 18us/step - loss: 24845.6926 - mean_squared_error: 24845.6926\n",
      "Epoch 46/500\n",
      "43743/43743 [==============================] - 1s 18us/step - loss: 24685.3490 - mean_squared_error: 24685.3490\n",
      "Epoch 47/500\n",
      "43743/43743 [==============================] - 1s 18us/step - loss: 24420.8423 - mean_squared_error: 24420.8423\n",
      "Epoch 48/500\n",
      "43743/43743 [==============================] - 1s 18us/step - loss: 24814.9959 - mean_squared_error: 24814.9959\n",
      "Epoch 49/500\n",
      "43743/43743 [==============================] - 1s 18us/step - loss: 25170.0227 - mean_squared_error: 25170.0227\n",
      "Epoch 50/500\n",
      "43743/43743 [==============================] - 1s 19us/step - loss: 25128.9787 - mean_squared_error: 25128.9787\n",
      "Epoch 51/500\n",
      "43743/43743 [==============================] - 1s 18us/step - loss: 24058.3963 - mean_squared_error: 24058.3963\n",
      "Epoch 52/500\n",
      "43743/43743 [==============================] - 1s 18us/step - loss: 24469.5098 - mean_squared_error: 24469.5098\n",
      "Epoch 53/500\n",
      "43743/43743 [==============================] - 1s 18us/step - loss: 23606.0910 - mean_squared_error: 23606.0910\n",
      "Epoch 54/500\n",
      "43743/43743 [==============================] - 1s 18us/step - loss: 23901.6084 - mean_squared_error: 23901.6084\n",
      "Epoch 55/500\n",
      "43743/43743 [==============================] - 1s 18us/step - loss: 23591.6114 - mean_squared_error: 23591.6114\n",
      "Epoch 56/500\n",
      "43743/43743 [==============================] - 1s 18us/step - loss: 23975.3409 - mean_squared_error: 23975.3409\n",
      "Epoch 57/500\n",
      "43743/43743 [==============================] - 1s 18us/step - loss: 23226.2447 - mean_squared_error: 23226.2447\n",
      "Epoch 58/500\n",
      "43743/43743 [==============================] - 1s 18us/step - loss: 23486.8357 - mean_squared_error: 23486.8357 0s - loss: 21595.9441 - me\n",
      "Epoch 59/500\n",
      "43743/43743 [==============================] - 1s 18us/step - loss: 22646.8990 - mean_squared_error: 22646.8990\n",
      "Epoch 60/500\n",
      "43743/43743 [==============================] - 1s 18us/step - loss: 22865.6268 - mean_squared_error: 22865.6268\n",
      "Epoch 61/500\n",
      "43743/43743 [==============================] - 1s 19us/step - loss: 22878.1197 - mean_squared_error: 22878.1197\n",
      "Epoch 62/500\n",
      "43743/43743 [==============================] - 1s 18us/step - loss: 22564.0290 - mean_squared_error: 22564.0290\n",
      "Epoch 63/500\n",
      "43743/43743 [==============================] - 1s 18us/step - loss: 21988.4497 - mean_squared_error: 21988.4497\n",
      "Epoch 64/500\n",
      "43743/43743 [==============================] - 1s 18us/step - loss: 22316.1499 - mean_squared_error: 22316.1499\n",
      "Epoch 65/500\n",
      "43743/43743 [==============================] - 1s 18us/step - loss: 22043.8935 - mean_squared_error: 22043.8935\n",
      "Epoch 66/500\n",
      "43743/43743 [==============================] - 1s 18us/step - loss: 21616.3822 - mean_squared_error: 21616.3822\n",
      "Epoch 67/500\n",
      "43743/43743 [==============================] - 1s 18us/step - loss: 22374.2214 - mean_squared_error: 22374.2214\n",
      "Epoch 68/500\n",
      "43743/43743 [==============================] - 1s 18us/step - loss: 21719.7507 - mean_squared_error: 21719.7507\n",
      "Epoch 69/500\n",
      "43743/43743 [==============================] - 1s 18us/step - loss: 21581.7554 - mean_squared_error: 21581.7554\n",
      "Epoch 70/500\n",
      "43743/43743 [==============================] - 1s 19us/step - loss: 21623.3634 - mean_squared_error: 21623.3634\n",
      "Epoch 71/500\n",
      "43743/43743 [==============================] - 1s 19us/step - loss: 21915.1407 - mean_squared_error: 21915.1407\n",
      "Epoch 72/500\n",
      "43743/43743 [==============================] - 1s 19us/step - loss: 21443.1984 - mean_squared_error: 21443.1984\n",
      "Epoch 73/500\n",
      "43743/43743 [==============================] - 1s 18us/step - loss: 20753.6683 - mean_squared_error: 20753.6683\n",
      "Epoch 74/500\n",
      "43743/43743 [==============================] - 1s 18us/step - loss: 21429.7202 - mean_squared_error: 21429.7202\n",
      "Epoch 75/500\n",
      "43743/43743 [==============================] - 1s 18us/step - loss: 21177.6154 - mean_squared_error: 21177.6154\n",
      "Epoch 76/500\n",
      "43743/43743 [==============================] - 1s 18us/step - loss: 21100.3464 - mean_squared_error: 21100.3464\n",
      "Epoch 77/500\n",
      "43743/43743 [==============================] - 1s 18us/step - loss: 21146.0642 - mean_squared_error: 21146.0642\n",
      "Epoch 78/500\n",
      "43743/43743 [==============================] - 1s 18us/step - loss: 21022.5519 - mean_squared_error: 21022.5519\n",
      "Epoch 79/500\n",
      "43743/43743 [==============================] - 1s 18us/step - loss: 21072.7807 - mean_squared_error: 21072.7807\n",
      "Epoch 80/500\n",
      "43743/43743 [==============================] - 1s 18us/step - loss: 20735.3395 - mean_squared_error: 20735.3395\n",
      "Epoch 81/500\n",
      "43743/43743 [==============================] - 1s 19us/step - loss: 20577.3880 - mean_squared_error: 20577.3880\n",
      "Epoch 82/500\n",
      "43743/43743 [==============================] - 1s 18us/step - loss: 20147.2058 - mean_squared_error: 20147.2058\n",
      "Epoch 83/500\n",
      "43743/43743 [==============================] - 1s 18us/step - loss: 20391.6212 - mean_squared_error: 20391.6212\n",
      "Epoch 84/500\n",
      "43743/43743 [==============================] - 1s 18us/step - loss: 20215.3888 - mean_squared_error: 20215.3888\n",
      "Epoch 85/500\n",
      "43743/43743 [==============================] - 1s 18us/step - loss: 20417.7837 - mean_squared_error: 20417.7837\n",
      "Epoch 86/500\n",
      "43743/43743 [==============================] - 1s 18us/step - loss: 20034.7469 - mean_squared_error: 20034.7469\n",
      "Epoch 87/500\n",
      "43743/43743 [==============================] - 1s 18us/step - loss: 20261.9861 - mean_squared_error: 20261.9861\n",
      "Epoch 88/500\n",
      "43743/43743 [==============================] - 1s 18us/step - loss: 20308.7519 - mean_squared_error: 20308.7519\n",
      "Epoch 89/500\n",
      "43743/43743 [==============================] - 1s 18us/step - loss: 20786.3713 - mean_squared_error: 20786.3713\n",
      "Epoch 90/500\n",
      "43743/43743 [==============================] - 1s 18us/step - loss: 19892.7028 - mean_squared_error: 19892.7028\n",
      "Epoch 91/500\n",
      "43743/43743 [==============================] - 1s 18us/step - loss: 20090.9345 - mean_squared_error: 20090.9345\n",
      "Epoch 92/500\n",
      "43743/43743 [==============================] - 1s 18us/step - loss: 19813.1573 - mean_squared_error: 19813.1573\n",
      "Epoch 93/500\n",
      "43743/43743 [==============================] - 1s 18us/step - loss: 20591.5971 - mean_squared_error: 20591.5971\n",
      "Epoch 94/500\n",
      "43743/43743 [==============================] - 1s 18us/step - loss: 20252.6096 - mean_squared_error: 20252.6096\n",
      "Epoch 95/500\n",
      "43743/43743 [==============================] - 1s 18us/step - loss: 19950.9549 - mean_squared_error: 19950.9549\n",
      "Epoch 96/500\n",
      "43743/43743 [==============================] - 1s 18us/step - loss: 19979.1399 - mean_squared_error: 19979.1399\n",
      "Epoch 97/500\n",
      "43743/43743 [==============================] - 1s 18us/step - loss: 19545.2327 - mean_squared_error: 19545.2327\n",
      "Epoch 98/500\n",
      "43743/43743 [==============================] - 1s 18us/step - loss: 19767.9350 - mean_squared_error: 19767.9350\n",
      "Epoch 99/500\n",
      "43743/43743 [==============================] - 1s 18us/step - loss: 19824.7586 - mean_squared_error: 19824.7586\n",
      "Epoch 100/500\n",
      "43743/43743 [==============================] - 1s 18us/step - loss: 19793.5462 - mean_squared_error: 19793.5462\n",
      "Epoch 101/500\n",
      "43743/43743 [==============================] - 1s 19us/step - loss: 19572.9924 - mean_squared_error: 19572.9924\n",
      "Epoch 102/500\n",
      "43743/43743 [==============================] - 1s 19us/step - loss: 20098.8872 - mean_squared_error: 20098.8872\n",
      "Epoch 103/500\n",
      "43743/43743 [==============================] - 1s 18us/step - loss: 19566.1865 - mean_squared_error: 19566.1865\n",
      "Epoch 104/500\n",
      "43743/43743 [==============================] - 1s 18us/step - loss: 20266.7202 - mean_squared_error: 20266.7202\n",
      "Epoch 105/500\n",
      "43743/43743 [==============================] - 1s 18us/step - loss: 19619.4780 - mean_squared_error: 19619.4780\n",
      "Epoch 106/500\n",
      "43743/43743 [==============================] - 1s 18us/step - loss: 19811.8993 - mean_squared_error: 19811.8993\n",
      "Epoch 107/500\n",
      "43743/43743 [==============================] - 1s 18us/step - loss: 19642.0462 - mean_squared_error: 19642.0462\n",
      "Epoch 108/500\n",
      "43743/43743 [==============================] - 1s 18us/step - loss: 19790.8859 - mean_squared_error: 19790.8859\n",
      "Epoch 109/500\n",
      "43743/43743 [==============================] - 1s 18us/step - loss: 19110.4857 - mean_squared_error: 19110.4857\n",
      "Epoch 110/500\n",
      "43743/43743 [==============================] - 1s 18us/step - loss: 19364.6589 - mean_squared_error: 19364.6589\n",
      "Epoch 111/500\n",
      "43743/43743 [==============================] - 1s 18us/step - loss: 19140.3487 - mean_squared_error: 19140.3487\n",
      "Epoch 112/500\n",
      "43743/43743 [==============================] - 1s 18us/step - loss: 19730.8587 - mean_squared_error: 19730.8587\n",
      "Epoch 113/500\n",
      "43743/43743 [==============================] - 1s 18us/step - loss: 19433.1368 - mean_squared_error: 19433.1368\n",
      "Epoch 114/500\n",
      "43743/43743 [==============================] - 1s 18us/step - loss: 19533.9538 - mean_squared_error: 19533.9538\n",
      "Epoch 115/500\n",
      "43743/43743 [==============================] - 1s 18us/step - loss: 19729.6489 - mean_squared_error: 19729.6489\n",
      "Epoch 116/500\n",
      "43743/43743 [==============================] - 1s 18us/step - loss: 19230.7433 - mean_squared_error: 19230.7433\n",
      "Epoch 117/500\n",
      "43743/43743 [==============================] - 1s 18us/step - loss: 19494.8000 - mean_squared_error: 19494.8000\n",
      "Epoch 118/500\n",
      "43743/43743 [==============================] - 1s 18us/step - loss: 19519.7742 - mean_squared_error: 19519.7742\n",
      "Epoch 119/500\n",
      "43743/43743 [==============================] - 1s 18us/step - loss: 19448.9481 - mean_squared_error: 19448.9481\n",
      "Epoch 120/500\n",
      "43743/43743 [==============================] - 1s 18us/step - loss: 19222.3096 - mean_squared_error: 19222.3096\n",
      "Epoch 121/500\n",
      "43743/43743 [==============================] - 1s 18us/step - loss: 18939.1332 - mean_squared_error: 18939.1332\n",
      "Epoch 122/500\n",
      "43743/43743 [==============================] - 1s 19us/step - loss: 19269.1194 - mean_squared_error: 19269.1194\n",
      "Epoch 123/500\n",
      "43743/43743 [==============================] - 1s 18us/step - loss: 19563.3076 - mean_squared_error: 19563.3076\n",
      "Epoch 124/500\n",
      "43743/43743 [==============================] - 1s 18us/step - loss: 19095.0580 - mean_squared_error: 19095.0580\n",
      "Epoch 125/500\n",
      "43743/43743 [==============================] - 1s 18us/step - loss: 19196.0590 - mean_squared_error: 19196.0590\n",
      "Epoch 126/500\n",
      "43743/43743 [==============================] - 1s 18us/step - loss: 19355.6201 - mean_squared_error: 19355.6201\n",
      "Epoch 127/500\n",
      "43743/43743 [==============================] - 1s 18us/step - loss: 19647.3933 - mean_squared_error: 19647.3933\n",
      "Epoch 128/500\n",
      "43743/43743 [==============================] - 1s 18us/step - loss: 18875.7388 - mean_squared_error: 18875.7388\n",
      "Epoch 129/500\n",
      "43743/43743 [==============================] - 1s 18us/step - loss: 19119.1414 - mean_squared_error: 19119.1414\n",
      "Epoch 130/500\n",
      "43743/43743 [==============================] - 1s 18us/step - loss: 19370.9908 - mean_squared_error: 19370.9908\n",
      "Epoch 131/500\n"
     ]
    },
    {
     "name": "stdout",
     "output_type": "stream",
     "text": [
      "43743/43743 [==============================] - 1s 18us/step - loss: 18896.4631 - mean_squared_error: 18896.4631\n",
      "Epoch 132/500\n",
      "43743/43743 [==============================] - 1s 18us/step - loss: 18959.0071 - mean_squared_error: 18959.0071\n",
      "Epoch 133/500\n",
      "43743/43743 [==============================] - 1s 18us/step - loss: 18817.1889 - mean_squared_error: 18817.1889\n",
      "Epoch 134/500\n",
      "43743/43743 [==============================] - 1s 18us/step - loss: 19075.1232 - mean_squared_error: 19075.1232\n",
      "Epoch 135/500\n",
      "43743/43743 [==============================] - 1s 18us/step - loss: 18674.7553 - mean_squared_error: 18674.7553\n",
      "Epoch 136/500\n",
      "43743/43743 [==============================] - 1s 18us/step - loss: 19475.0531 - mean_squared_error: 19475.0531\n",
      "Epoch 137/500\n",
      "43743/43743 [==============================] - 1s 18us/step - loss: 19341.2613 - mean_squared_error: 19341.2613\n",
      "Epoch 138/500\n",
      "43743/43743 [==============================] - 1s 18us/step - loss: 18890.6482 - mean_squared_error: 18890.6482\n",
      "Epoch 139/500\n",
      "43743/43743 [==============================] - 1s 18us/step - loss: 18819.7633 - mean_squared_error: 18819.7633\n",
      "Epoch 140/500\n",
      "43743/43743 [==============================] - 1s 18us/step - loss: 19280.3181 - mean_squared_error: 19280.3181\n",
      "Epoch 141/500\n",
      "43743/43743 [==============================] - 1s 18us/step - loss: 19060.2348 - mean_squared_error: 19060.2348\n",
      "Epoch 142/500\n",
      "43743/43743 [==============================] - 1s 19us/step - loss: 18808.7861 - mean_squared_error: 18808.7861\n",
      "Epoch 143/500\n",
      "43743/43743 [==============================] - 1s 18us/step - loss: 18895.4757 - mean_squared_error: 18895.4757\n",
      "Epoch 144/500\n",
      "43743/43743 [==============================] - 1s 18us/step - loss: 18889.3262 - mean_squared_error: 18889.3262\n",
      "Epoch 145/500\n",
      "43743/43743 [==============================] - 1s 18us/step - loss: 18971.0421 - mean_squared_error: 18971.0421\n",
      "Epoch 146/500\n",
      "43743/43743 [==============================] - 1s 18us/step - loss: 18853.9476 - mean_squared_error: 18853.9476\n",
      "Epoch 147/500\n",
      "43743/43743 [==============================] - 1s 18us/step - loss: 19018.7214 - mean_squared_error: 19018.7214\n",
      "Epoch 148/500\n",
      "43743/43743 [==============================] - 1s 19us/step - loss: 19071.9350 - mean_squared_error: 19071.9350\n",
      "Epoch 149/500\n",
      "43743/43743 [==============================] - 1s 19us/step - loss: 18813.2890 - mean_squared_error: 18813.2890\n",
      "Epoch 150/500\n",
      "43743/43743 [==============================] - 1s 18us/step - loss: 18685.0986 - mean_squared_error: 18685.0986\n",
      "Epoch 151/500\n",
      "43743/43743 [==============================] - 1s 18us/step - loss: 18702.5132 - mean_squared_error: 18702.5132\n",
      "Epoch 152/500\n",
      "43743/43743 [==============================] - 1s 18us/step - loss: 19001.2392 - mean_squared_error: 19001.2392\n",
      "Epoch 153/500\n",
      "43743/43743 [==============================] - 1s 18us/step - loss: 19177.8871 - mean_squared_error: 19177.8871\n",
      "Epoch 154/500\n",
      "43743/43743 [==============================] - 1s 18us/step - loss: 18437.3175 - mean_squared_error: 18437.3175\n",
      "Epoch 155/500\n",
      "43743/43743 [==============================] - 1s 19us/step - loss: 19216.5626 - mean_squared_error: 19216.5626\n",
      "Epoch 156/500\n",
      "43743/43743 [==============================] - 1s 18us/step - loss: 18820.9433 - mean_squared_error: 18820.9433\n",
      "Epoch 157/500\n",
      "43743/43743 [==============================] - 1s 18us/step - loss: 18453.4794 - mean_squared_error: 18453.4794\n",
      "Epoch 158/500\n",
      "43743/43743 [==============================] - 1s 18us/step - loss: 19020.2394 - mean_squared_error: 19020.2394\n",
      "Epoch 159/500\n",
      "43743/43743 [==============================] - 1s 18us/step - loss: 19158.5287 - mean_squared_error: 19158.5287\n",
      "Epoch 160/500\n",
      "43743/43743 [==============================] - 1s 18us/step - loss: 18774.9236 - mean_squared_error: 18774.9236\n",
      "Epoch 161/500\n",
      "43743/43743 [==============================] - 1s 18us/step - loss: 18466.2608 - mean_squared_error: 18466.2608 0s - loss: 17544.5713 - me\n",
      "Epoch 162/500\n",
      "43743/43743 [==============================] - 1s 20us/step - loss: 18943.7027 - mean_squared_error: 18943.7027\n",
      "Epoch 163/500\n",
      "43743/43743 [==============================] - 1s 18us/step - loss: 18999.3991 - mean_squared_error: 18999.3991\n",
      "Epoch 164/500\n",
      "43743/43743 [==============================] - 1s 18us/step - loss: 18859.9308 - mean_squared_error: 18859.9308\n",
      "Epoch 165/500\n",
      "43743/43743 [==============================] - 1s 18us/step - loss: 18937.8650 - mean_squared_error: 18937.8650\n",
      "Epoch 166/500\n",
      "43743/43743 [==============================] - 1s 18us/step - loss: 18563.7692 - mean_squared_error: 18563.7692\n",
      "Epoch 167/500\n",
      "43743/43743 [==============================] - 1s 18us/step - loss: 18667.7034 - mean_squared_error: 18667.7034\n",
      "Epoch 168/500\n",
      "43743/43743 [==============================] - 1s 18us/step - loss: 18957.7634 - mean_squared_error: 18957.7634\n",
      "Epoch 169/500\n",
      "43743/43743 [==============================] - 1s 18us/step - loss: 18579.4098 - mean_squared_error: 18579.4098\n",
      "Epoch 170/500\n",
      "43743/43743 [==============================] - 1s 18us/step - loss: 18964.5052 - mean_squared_error: 18964.5052\n",
      "Epoch 171/500\n",
      "43743/43743 [==============================] - 1s 19us/step - loss: 18553.2768 - mean_squared_error: 18553.2768\n",
      "Epoch 172/500\n",
      "43743/43743 [==============================] - 1s 18us/step - loss: 18893.7662 - mean_squared_error: 18893.7662\n",
      "Epoch 173/500\n",
      "43743/43743 [==============================] - 1s 18us/step - loss: 18714.8311 - mean_squared_error: 18714.8311\n",
      "Epoch 174/500\n",
      "43743/43743 [==============================] - 1s 18us/step - loss: 18529.1966 - mean_squared_error: 18529.1966\n",
      "Epoch 175/500\n",
      "43743/43743 [==============================] - 1s 19us/step - loss: 18616.5603 - mean_squared_error: 18616.5603\n",
      "Epoch 176/500\n",
      "43743/43743 [==============================] - 1s 18us/step - loss: 18560.0076 - mean_squared_error: 18560.0076\n",
      "Epoch 177/500\n",
      "43743/43743 [==============================] - 1s 19us/step - loss: 18805.0053 - mean_squared_error: 18805.0053\n",
      "Epoch 178/500\n",
      "43743/43743 [==============================] - 1s 19us/step - loss: 18733.5057 - mean_squared_error: 18733.5057\n",
      "Epoch 179/500\n",
      "43743/43743 [==============================] - 1s 19us/step - loss: 18463.5986 - mean_squared_error: 18463.5986\n",
      "Epoch 180/500\n",
      "43743/43743 [==============================] - 1s 18us/step - loss: 18383.5786 - mean_squared_error: 18383.5786\n",
      "Epoch 181/500\n",
      "43743/43743 [==============================] - 1s 18us/step - loss: 18680.0038 - mean_squared_error: 18680.0038\n",
      "Epoch 182/500\n",
      "43743/43743 [==============================] - 1s 19us/step - loss: 18560.0065 - mean_squared_error: 18560.0065\n",
      "Epoch 183/500\n",
      "43743/43743 [==============================] - 1s 18us/step - loss: 18606.3579 - mean_squared_error: 18606.3579\n",
      "Epoch 184/500\n",
      "43743/43743 [==============================] - 1s 18us/step - loss: 18388.2825 - mean_squared_error: 18388.2825\n",
      "Epoch 185/500\n",
      "43743/43743 [==============================] - 1s 18us/step - loss: 18818.0163 - mean_squared_error: 18818.0163\n",
      "Epoch 186/500\n",
      "43743/43743 [==============================] - 1s 20us/step - loss: 18528.6638 - mean_squared_error: 18528.6638\n",
      "Epoch 187/500\n",
      "43743/43743 [==============================] - 1s 19us/step - loss: 18265.2317 - mean_squared_error: 18265.2317\n",
      "Epoch 188/500\n",
      "43743/43743 [==============================] - 1s 18us/step - loss: 18377.1285 - mean_squared_error: 18377.1285\n",
      "Epoch 189/500\n",
      "43743/43743 [==============================] - 1s 18us/step - loss: 18329.3542 - mean_squared_error: 18329.3542\n",
      "Epoch 190/500\n",
      "43743/43743 [==============================] - 1s 19us/step - loss: 18915.7827 - mean_squared_error: 18915.7827 0s - loss: 12660.5693 - \n",
      "Epoch 191/500\n",
      "43743/43743 [==============================] - 1s 19us/step - loss: 18242.4860 - mean_squared_error: 18242.4860\n",
      "Epoch 192/500\n",
      "43743/43743 [==============================] - 1s 18us/step - loss: 18591.2555 - mean_squared_error: 18591.2555\n",
      "Epoch 193/500\n",
      "43743/43743 [==============================] - 1s 19us/step - loss: 18440.0635 - mean_squared_error: 18440.0635\n",
      "Epoch 194/500\n",
      "43743/43743 [==============================] - 1s 18us/step - loss: 18719.4995 - mean_squared_error: 18719.4995\n",
      "Epoch 195/500\n",
      "43743/43743 [==============================] - 1s 18us/step - loss: 18489.9535 - mean_squared_error: 18489.9535\n",
      "Epoch 196/500\n",
      "43743/43743 [==============================] - 1s 18us/step - loss: 18699.3594 - mean_squared_error: 18699.3594\n",
      "Epoch 197/500\n",
      "43743/43743 [==============================] - 1s 18us/step - loss: 18486.9078 - mean_squared_error: 18486.9078\n",
      "Epoch 198/500\n",
      "43743/43743 [==============================] - 1s 18us/step - loss: 18270.9893 - mean_squared_error: 18270.9893\n",
      "Epoch 199/500\n",
      "43743/43743 [==============================] - 1s 18us/step - loss: 18684.4776 - mean_squared_error: 18684.4776\n",
      "Epoch 200/500\n",
      "43743/43743 [==============================] - 1s 18us/step - loss: 18229.2626 - mean_squared_error: 18229.2626\n",
      "Epoch 201/500\n",
      "43743/43743 [==============================] - 1s 18us/step - loss: 18209.3153 - mean_squared_error: 18209.3153\n",
      "Epoch 202/500\n",
      "43743/43743 [==============================] - 1s 19us/step - loss: 18358.2964 - mean_squared_error: 18358.2964\n",
      "Epoch 203/500\n",
      "43743/43743 [==============================] - 1s 19us/step - loss: 18680.9262 - mean_squared_error: 18680.9262\n",
      "Epoch 204/500\n",
      "43743/43743 [==============================] - 1s 20us/step - loss: 18360.0353 - mean_squared_error: 18360.0353\n",
      "Epoch 205/500\n",
      "43743/43743 [==============================] - 1s 19us/step - loss: 18526.8293 - mean_squared_error: 18526.8293\n",
      "Epoch 206/500\n",
      "43743/43743 [==============================] - 1s 18us/step - loss: 18507.3119 - mean_squared_error: 18507.3119\n",
      "Epoch 207/500\n",
      "43743/43743 [==============================] - ETA: 0s - loss: 18173.5522 - mean_squared_error: 18173.55 - 1s 18us/step - loss: 18377.1357 - mean_squared_error: 18377.1357\n",
      "Epoch 208/500\n",
      "43743/43743 [==============================] - 1s 17us/step - loss: 18196.3972 - mean_squared_error: 18196.3972\n",
      "Epoch 209/500\n",
      "43743/43743 [==============================] - 1s 17us/step - loss: 18520.1087 - mean_squared_error: 18520.1087\n",
      "Epoch 210/500\n",
      "43743/43743 [==============================] - 1s 17us/step - loss: 18425.2422 - mean_squared_error: 18425.2422\n",
      "Epoch 211/500\n",
      "43743/43743 [==============================] - 1s 17us/step - loss: 18571.9361 - mean_squared_error: 18571.9361\n",
      "Epoch 212/500\n",
      "43743/43743 [==============================] - 1s 17us/step - loss: 18515.6334 - mean_squared_error: 18515.6334\n",
      "Epoch 213/500\n",
      "43743/43743 [==============================] - 1s 17us/step - loss: 18201.2812 - mean_squared_error: 18201.2812\n",
      "Epoch 214/500\n",
      "43743/43743 [==============================] - 1s 17us/step - loss: 18571.6618 - mean_squared_error: 18571.6618\n",
      "Epoch 215/500\n",
      "43743/43743 [==============================] - 1s 17us/step - loss: 18504.4515 - mean_squared_error: 18504.4515\n",
      "Epoch 216/500\n",
      "43743/43743 [==============================] - 1s 17us/step - loss: 18511.9439 - mean_squared_error: 18511.9439\n",
      "Epoch 217/500\n",
      "43743/43743 [==============================] - 1s 18us/step - loss: 18280.0882 - mean_squared_error: 18280.0882\n",
      "Epoch 218/500\n",
      "43743/43743 [==============================] - 1s 17us/step - loss: 18506.8294 - mean_squared_error: 18506.8294\n",
      "Epoch 219/500\n",
      "43743/43743 [==============================] - 1s 17us/step - loss: 18569.2958 - mean_squared_error: 18569.2958\n",
      "Epoch 220/500\n",
      "43743/43743 [==============================] - 1s 17us/step - loss: 18270.8949 - mean_squared_error: 18270.8949\n",
      "Epoch 221/500\n",
      "43743/43743 [==============================] - 1s 18us/step - loss: 18422.9151 - mean_squared_error: 18422.9151 0s - loss: 16530.4942 - me\n",
      "Epoch 222/500\n",
      "43743/43743 [==============================] - 1s 18us/step - loss: 18118.2155 - mean_squared_error: 18118.2155\n",
      "Epoch 223/500\n",
      "43743/43743 [==============================] - 1s 18us/step - loss: 18140.4675 - mean_squared_error: 18140.4675\n",
      "Epoch 224/500\n",
      "43743/43743 [==============================] - 1s 17us/step - loss: 18186.3331 - mean_squared_error: 18186.3331\n",
      "Epoch 225/500\n",
      "43743/43743 [==============================] - 1s 17us/step - loss: 18287.4009 - mean_squared_error: 18287.4009\n",
      "Epoch 226/500\n",
      "43743/43743 [==============================] - 1s 17us/step - loss: 18262.0917 - mean_squared_error: 18262.0917\n",
      "Epoch 227/500\n",
      "43743/43743 [==============================] - ETA: 0s - loss: 18855.3231 - mean_squared_error: 18855.32 - 1s 17us/step - loss: 18617.3601 - mean_squared_error: 18617.3601\n",
      "Epoch 228/500\n",
      "43743/43743 [==============================] - 1s 17us/step - loss: 18509.1130 - mean_squared_error: 18509.1130\n",
      "Epoch 229/500\n",
      "43743/43743 [==============================] - 1s 17us/step - loss: 17999.5945 - mean_squared_error: 17999.5945\n",
      "Epoch 230/500\n",
      "43743/43743 [==============================] - 1s 17us/step - loss: 18496.8045 - mean_squared_error: 18496.8045\n",
      "Epoch 231/500\n",
      "43743/43743 [==============================] - 1s 17us/step - loss: 18415.4298 - mean_squared_error: 18415.4298 0s - loss: 14569.4289 - mean\n",
      "Epoch 232/500\n",
      "43743/43743 [==============================] - 1s 17us/step - loss: 18159.9701 - mean_squared_error: 18159.9701\n",
      "Epoch 233/500\n",
      "43743/43743 [==============================] - 1s 17us/step - loss: 18390.2951 - mean_squared_error: 18390.2951\n",
      "Epoch 234/500\n",
      "43743/43743 [==============================] - 1s 17us/step - loss: 18540.1829 - mean_squared_error: 18540.1829\n",
      "Epoch 235/500\n",
      "43743/43743 [==============================] - 1s 17us/step - loss: 18307.1893 - mean_squared_error: 18307.1893\n",
      "Epoch 236/500\n",
      "43743/43743 [==============================] - 1s 18us/step - loss: 18532.8993 - mean_squared_error: 18532.8993\n",
      "Epoch 237/500\n",
      "43743/43743 [==============================] - 1s 18us/step - loss: 18280.7285 - mean_squared_error: 18280.7285\n",
      "Epoch 238/500\n",
      "43743/43743 [==============================] - 1s 18us/step - loss: 18101.3696 - mean_squared_error: 18101.3696\n",
      "Epoch 239/500\n",
      "43743/43743 [==============================] - 1s 18us/step - loss: 18164.5180 - mean_squared_error: 18164.5180\n",
      "Epoch 240/500\n",
      "43743/43743 [==============================] - 1s 17us/step - loss: 18300.6459 - mean_squared_error: 18300.6459\n",
      "Epoch 241/500\n",
      "43743/43743 [==============================] - 1s 19us/step - loss: 18116.0453 - mean_squared_error: 18116.0453\n",
      "Epoch 242/500\n",
      "43743/43743 [==============================] - 1s 17us/step - loss: 18631.6506 - mean_squared_error: 18631.6506\n",
      "Epoch 243/500\n",
      "43743/43743 [==============================] - 1s 19us/step - loss: 18814.7565 - mean_squared_error: 18814.7565\n",
      "Epoch 244/500\n",
      "43743/43743 [==============================] - 1s 17us/step - loss: 18317.4622 - mean_squared_error: 18317.4622\n",
      "Epoch 245/500\n",
      "43743/43743 [==============================] - 1s 17us/step - loss: 18388.9902 - mean_squared_error: 18388.9902 0s - loss: 14715.5050 - mean\n",
      "Epoch 246/500\n",
      "43743/43743 [==============================] - 1s 19us/step - loss: 18538.6064 - mean_squared_error: 18538.6064\n",
      "Epoch 247/500\n",
      "43743/43743 [==============================] - 1s 20us/step - loss: 18237.9130 - mean_squared_error: 18237.9130\n",
      "Epoch 248/500\n",
      "43743/43743 [==============================] - 1s 18us/step - loss: 18166.6089 - mean_squared_error: 18166.6089\n",
      "Epoch 249/500\n",
      "43743/43743 [==============================] - 1s 18us/step - loss: 18112.8821 - mean_squared_error: 18112.8821\n",
      "Epoch 250/500\n",
      "43743/43743 [==============================] - 1s 18us/step - loss: 18065.0424 - mean_squared_error: 18065.0424\n",
      "Epoch 251/500\n",
      "43743/43743 [==============================] - 1s 18us/step - loss: 18474.8949 - mean_squared_error: 18474.8949\n",
      "Epoch 252/500\n",
      "43743/43743 [==============================] - 1s 19us/step - loss: 18185.9191 - mean_squared_error: 18185.9191\n",
      "Epoch 253/500\n",
      "43743/43743 [==============================] - 1s 20us/step - loss: 18054.3969 - mean_squared_error: 18054.3969\n",
      "Epoch 254/500\n",
      "43743/43743 [==============================] - 1s 20us/step - loss: 18429.7971 - mean_squared_error: 18429.7971\n",
      "Epoch 255/500\n",
      "43743/43743 [==============================] - 1s 19us/step - loss: 18168.7755 - mean_squared_error: 18168.7755\n",
      "Epoch 256/500\n",
      "43743/43743 [==============================] - 1s 19us/step - loss: 18063.2742 - mean_squared_error: 18063.2742\n",
      "Epoch 257/500\n",
      "43743/43743 [==============================] - 1s 19us/step - loss: 18083.9962 - mean_squared_error: 18083.9962\n",
      "Epoch 258/500\n"
     ]
    },
    {
     "name": "stdout",
     "output_type": "stream",
     "text": [
      "43743/43743 [==============================] - 1s 18us/step - loss: 18229.0845 - mean_squared_error: 18229.0845\n",
      "Epoch 259/500\n",
      "43743/43743 [==============================] - 1s 18us/step - loss: 18381.6460 - mean_squared_error: 18381.6460\n",
      "Epoch 260/500\n",
      "43743/43743 [==============================] - 1s 18us/step - loss: 18553.2151 - mean_squared_error: 18553.2151\n",
      "Epoch 261/500\n",
      "43743/43743 [==============================] - 1s 18us/step - loss: 18731.4009 - mean_squared_error: 18731.4009\n",
      "Epoch 262/500\n",
      "43743/43743 [==============================] - 1s 18us/step - loss: 18360.1904 - mean_squared_error: 18360.1904\n",
      "Epoch 263/500\n",
      "43743/43743 [==============================] - 1s 19us/step - loss: 18381.3078 - mean_squared_error: 18381.3078\n",
      "Epoch 264/500\n",
      "43743/43743 [==============================] - 1s 18us/step - loss: 18271.0482 - mean_squared_error: 18271.0482\n",
      "Epoch 265/500\n",
      "43743/43743 [==============================] - 1s 18us/step - loss: 18478.4183 - mean_squared_error: 18478.4183\n",
      "Epoch 266/500\n",
      "43743/43743 [==============================] - 1s 18us/step - loss: 18278.0146 - mean_squared_error: 18278.0146\n",
      "Epoch 267/500\n",
      "43743/43743 [==============================] - 1s 18us/step - loss: 18283.4178 - mean_squared_error: 18283.4178\n",
      "Epoch 268/500\n",
      "43743/43743 [==============================] - 1s 18us/step - loss: 18428.2775 - mean_squared_error: 18428.2775\n",
      "Epoch 269/500\n",
      "43743/43743 [==============================] - 1s 18us/step - loss: 18110.6881 - mean_squared_error: 18110.6881\n",
      "Epoch 270/500\n",
      "43743/43743 [==============================] - 1s 18us/step - loss: 18460.3948 - mean_squared_error: 18460.3948\n",
      "Epoch 271/500\n",
      "43743/43743 [==============================] - 1s 18us/step - loss: 18237.2593 - mean_squared_error: 18237.2593\n",
      "Epoch 272/500\n",
      "43743/43743 [==============================] - 1s 18us/step - loss: 18125.2005 - mean_squared_error: 18125.2005\n",
      "Epoch 273/500\n",
      "43743/43743 [==============================] - 1s 18us/step - loss: 18432.0917 - mean_squared_error: 18432.0917\n",
      "Epoch 274/500\n",
      "43743/43743 [==============================] - 1s 18us/step - loss: 17867.8668 - mean_squared_error: 17867.8668\n",
      "Epoch 275/500\n",
      "43743/43743 [==============================] - 1s 18us/step - loss: 18189.2781 - mean_squared_error: 18189.2781\n",
      "Epoch 276/500\n",
      "43743/43743 [==============================] - 1s 18us/step - loss: 18379.7613 - mean_squared_error: 18379.7613\n",
      "Epoch 277/500\n",
      "43743/43743 [==============================] - 1s 18us/step - loss: 18370.8204 - mean_squared_error: 18370.8204\n",
      "Epoch 278/500\n",
      "43743/43743 [==============================] - 1s 18us/step - loss: 18306.1034 - mean_squared_error: 18306.1034\n",
      "Epoch 279/500\n",
      "43743/43743 [==============================] - 1s 18us/step - loss: 18285.0472 - mean_squared_error: 18285.0472\n",
      "Epoch 280/500\n",
      "43743/43743 [==============================] - 1s 18us/step - loss: 18683.2194 - mean_squared_error: 18683.2194\n",
      "Epoch 281/500\n",
      "43743/43743 [==============================] - 1s 18us/step - loss: 18206.3286 - mean_squared_error: 18206.3286\n",
      "Epoch 282/500\n",
      "43743/43743 [==============================] - 1s 18us/step - loss: 18301.7783 - mean_squared_error: 18301.7783\n",
      "Epoch 283/500\n",
      "43743/43743 [==============================] - 1s 19us/step - loss: 18110.1536 - mean_squared_error: 18110.1536\n",
      "Epoch 284/500\n",
      "43743/43743 [==============================] - 1s 19us/step - loss: 18512.8932 - mean_squared_error: 18512.8932\n",
      "Epoch 285/500\n",
      "43743/43743 [==============================] - 1s 18us/step - loss: 18091.7311 - mean_squared_error: 18091.7311\n",
      "Epoch 286/500\n",
      "43743/43743 [==============================] - 1s 18us/step - loss: 17966.5344 - mean_squared_error: 17966.5344\n",
      "Epoch 287/500\n",
      "43743/43743 [==============================] - 1s 18us/step - loss: 18247.5610 - mean_squared_error: 18247.5610\n",
      "Epoch 288/500\n",
      "43743/43743 [==============================] - 1s 18us/step - loss: 18373.4426 - mean_squared_error: 18373.4426\n",
      "Epoch 289/500\n",
      "43743/43743 [==============================] - 1s 18us/step - loss: 18158.2806 - mean_squared_error: 18158.2806\n",
      "Epoch 290/500\n",
      "43743/43743 [==============================] - 1s 18us/step - loss: 17949.3815 - mean_squared_error: 17949.3815\n",
      "Epoch 291/500\n",
      "43743/43743 [==============================] - 1s 18us/step - loss: 18337.1057 - mean_squared_error: 18337.1057\n",
      "Epoch 292/500\n",
      "43743/43743 [==============================] - 1s 18us/step - loss: 18177.0421 - mean_squared_error: 18177.0421\n",
      "Epoch 293/500\n",
      "43743/43743 [==============================] - 1s 18us/step - loss: 17938.6721 - mean_squared_error: 17938.6721\n",
      "Epoch 294/500\n",
      "43743/43743 [==============================] - 1s 18us/step - loss: 17960.1563 - mean_squared_error: 17960.1563\n",
      "Epoch 295/500\n",
      "43743/43743 [==============================] - 1s 18us/step - loss: 18277.3856 - mean_squared_error: 18277.3856\n",
      "Epoch 296/500\n",
      "43743/43743 [==============================] - 1s 18us/step - loss: 18011.9464 - mean_squared_error: 18011.9464\n",
      "Epoch 297/500\n",
      "43743/43743 [==============================] - 1s 18us/step - loss: 18575.8516 - mean_squared_error: 18575.8516\n",
      "Epoch 298/500\n",
      "43743/43743 [==============================] - 1s 18us/step - loss: 18487.5850 - mean_squared_error: 18487.5850\n",
      "Epoch 299/500\n",
      "43743/43743 [==============================] - 1s 18us/step - loss: 18044.6976 - mean_squared_error: 18044.6976\n",
      "Epoch 300/500\n",
      "43743/43743 [==============================] - 1s 18us/step - loss: 18209.7511 - mean_squared_error: 18209.7511\n",
      "Epoch 301/500\n",
      "43743/43743 [==============================] - 1s 18us/step - loss: 18593.2690 - mean_squared_error: 18593.2690\n",
      "Epoch 302/500\n",
      "43743/43743 [==============================] - 1s 18us/step - loss: 18086.9113 - mean_squared_error: 18086.9113\n",
      "Epoch 303/500\n",
      "43743/43743 [==============================] - 1s 18us/step - loss: 18227.2151 - mean_squared_error: 18227.2151\n",
      "Epoch 304/500\n",
      "43743/43743 [==============================] - 1s 19us/step - loss: 17839.9808 - mean_squared_error: 17839.9808\n",
      "Epoch 305/500\n",
      "43743/43743 [==============================] - 1s 18us/step - loss: 17984.4756 - mean_squared_error: 17984.4756\n",
      "Epoch 306/500\n",
      "43743/43743 [==============================] - 1s 18us/step - loss: 17940.2025 - mean_squared_error: 17940.2025\n",
      "Epoch 307/500\n",
      "43743/43743 [==============================] - 1s 18us/step - loss: 18025.6080 - mean_squared_error: 18025.6080\n",
      "Epoch 308/500\n",
      "43743/43743 [==============================] - 1s 18us/step - loss: 17752.4772 - mean_squared_error: 17752.4772\n",
      "Epoch 309/500\n",
      "43743/43743 [==============================] - 1s 18us/step - loss: 18548.6825 - mean_squared_error: 18548.6825\n",
      "Epoch 310/500\n",
      "43743/43743 [==============================] - 1s 18us/step - loss: 18246.3794 - mean_squared_error: 18246.3794\n",
      "Epoch 311/500\n",
      "43743/43743 [==============================] - 1s 18us/step - loss: 18102.7128 - mean_squared_error: 18102.7128\n",
      "Epoch 312/500\n",
      "43743/43743 [==============================] - 1s 18us/step - loss: 18054.7428 - mean_squared_error: 18054.7428\n",
      "Epoch 313/500\n",
      "43743/43743 [==============================] - 1s 18us/step - loss: 18025.6983 - mean_squared_error: 18025.6983\n",
      "Epoch 314/500\n",
      "43743/43743 [==============================] - 1s 18us/step - loss: 18171.6791 - mean_squared_error: 18171.6791\n",
      "Epoch 315/500\n",
      "43743/43743 [==============================] - 1s 18us/step - loss: 18299.6135 - mean_squared_error: 18299.6135\n",
      "Epoch 316/500\n",
      "43743/43743 [==============================] - 1s 18us/step - loss: 17746.1541 - mean_squared_error: 17746.1541\n",
      "Epoch 317/500\n",
      "43743/43743 [==============================] - 1s 18us/step - loss: 18355.4408 - mean_squared_error: 18355.4408\n",
      "Epoch 318/500\n",
      "43743/43743 [==============================] - 1s 18us/step - loss: 18551.3361 - mean_squared_error: 18551.3361\n",
      "Epoch 319/500\n",
      "43743/43743 [==============================] - 1s 18us/step - loss: 18009.0875 - mean_squared_error: 18009.0875\n",
      "Epoch 320/500\n",
      "43743/43743 [==============================] - 1s 18us/step - loss: 17896.4693 - mean_squared_error: 17896.4693\n",
      "Epoch 321/500\n",
      "43743/43743 [==============================] - 1s 18us/step - loss: 18013.2899 - mean_squared_error: 18013.2899\n",
      "Epoch 322/500\n",
      "43743/43743 [==============================] - 1s 18us/step - loss: 18201.9738 - mean_squared_error: 18201.9738\n",
      "Epoch 323/500\n",
      "43743/43743 [==============================] - 1s 18us/step - loss: 18505.7330 - mean_squared_error: 18505.7330\n",
      "Epoch 324/500\n",
      "43743/43743 [==============================] - 1s 20us/step - loss: 17897.1315 - mean_squared_error: 17897.1315\n",
      "Epoch 325/500\n",
      "43743/43743 [==============================] - 1s 18us/step - loss: 17888.5033 - mean_squared_error: 17888.5033\n",
      "Epoch 326/500\n",
      "43743/43743 [==============================] - 1s 18us/step - loss: 18768.5414 - mean_squared_error: 18768.5414\n",
      "Epoch 327/500\n",
      "43743/43743 [==============================] - 1s 18us/step - loss: 17950.9434 - mean_squared_error: 17950.9434\n",
      "Epoch 328/500\n",
      "43743/43743 [==============================] - 1s 18us/step - loss: 17756.8394 - mean_squared_error: 17756.8394\n",
      "Epoch 329/500\n",
      "43743/43743 [==============================] - 1s 18us/step - loss: 18449.9837 - mean_squared_error: 18449.9837\n",
      "Epoch 330/500\n",
      "43743/43743 [==============================] - 1s 18us/step - loss: 17981.6290 - mean_squared_error: 17981.6290\n",
      "Epoch 331/500\n",
      "43743/43743 [==============================] - 1s 18us/step - loss: 17999.5061 - mean_squared_error: 17999.5061 0s - loss: 21469.7292 - mean_squ\n",
      "Epoch 332/500\n",
      "43743/43743 [==============================] - 1s 18us/step - loss: 17968.5515 - mean_squared_error: 17968.5515\n",
      "Epoch 333/500\n",
      "43743/43743 [==============================] - 1s 18us/step - loss: 17967.5346 - mean_squared_error: 17967.5346\n",
      "Epoch 334/500\n",
      "43743/43743 [==============================] - 1s 18us/step - loss: 17812.2262 - mean_squared_error: 17812.2262\n",
      "Epoch 335/500\n",
      "43743/43743 [==============================] - 1s 18us/step - loss: 17757.9977 - mean_squared_error: 17757.9977\n",
      "Epoch 336/500\n",
      "43743/43743 [==============================] - 1s 18us/step - loss: 18022.9588 - mean_squared_error: 18022.9588\n",
      "Epoch 337/500\n",
      "43743/43743 [==============================] - 1s 18us/step - loss: 18341.2740 - mean_squared_error: 18341.2740\n",
      "Epoch 338/500\n",
      "43743/43743 [==============================] - 1s 18us/step - loss: 17823.1067 - mean_squared_error: 17823.1067\n",
      "Epoch 339/500\n",
      "43743/43743 [==============================] - 1s 18us/step - loss: 17933.0286 - mean_squared_error: 17933.0286\n",
      "Epoch 340/500\n",
      "43743/43743 [==============================] - 1s 18us/step - loss: 17854.7715 - mean_squared_error: 17854.7715\n",
      "Epoch 341/500\n",
      "43743/43743 [==============================] - 1s 18us/step - loss: 17983.8623 - mean_squared_error: 17983.8623\n",
      "Epoch 342/500\n",
      "43743/43743 [==============================] - 1s 18us/step - loss: 18041.9093 - mean_squared_error: 18041.9093\n",
      "Epoch 343/500\n",
      "43743/43743 [==============================] - 1s 18us/step - loss: 18114.4985 - mean_squared_error: 18114.4985\n",
      "Epoch 344/500\n",
      "43743/43743 [==============================] - 1s 19us/step - loss: 18181.6696 - mean_squared_error: 18181.6696\n",
      "Epoch 345/500\n",
      "43743/43743 [==============================] - 1s 18us/step - loss: 18167.5683 - mean_squared_error: 18167.5683\n",
      "Epoch 346/500\n",
      "43743/43743 [==============================] - 1s 20us/step - loss: 17898.4058 - mean_squared_error: 17898.4058\n",
      "Epoch 347/500\n",
      "43743/43743 [==============================] - 1s 19us/step - loss: 18035.6535 - mean_squared_error: 18035.6535\n",
      "Epoch 348/500\n",
      "43743/43743 [==============================] - 1s 18us/step - loss: 17721.7005 - mean_squared_error: 17721.7005\n",
      "Epoch 349/500\n",
      "43743/43743 [==============================] - 1s 18us/step - loss: 18070.8800 - mean_squared_error: 18070.8800\n",
      "Epoch 350/500\n",
      "43743/43743 [==============================] - 1s 18us/step - loss: 17917.6148 - mean_squared_error: 17917.6148\n",
      "Epoch 351/500\n",
      "43743/43743 [==============================] - 1s 18us/step - loss: 17940.7555 - mean_squared_error: 17940.7555\n",
      "Epoch 352/500\n",
      "43743/43743 [==============================] - 1s 18us/step - loss: 18386.2099 - mean_squared_error: 18386.2099\n",
      "Epoch 353/500\n",
      "43743/43743 [==============================] - 1s 18us/step - loss: 18109.9755 - mean_squared_error: 18109.9755\n",
      "Epoch 354/500\n",
      "43743/43743 [==============================] - 1s 18us/step - loss: 17571.3386 - mean_squared_error: 17571.3386\n",
      "Epoch 355/500\n",
      "43743/43743 [==============================] - 1s 18us/step - loss: 18293.6277 - mean_squared_error: 18293.6277\n",
      "Epoch 356/500\n",
      "43743/43743 [==============================] - 1s 18us/step - loss: 17389.2875 - mean_squared_error: 17389.2875\n",
      "Epoch 357/500\n",
      "43743/43743 [==============================] - 1s 18us/step - loss: 18235.4607 - mean_squared_error: 18235.4607\n",
      "Epoch 358/500\n",
      "43743/43743 [==============================] - 1s 18us/step - loss: 17848.5862 - mean_squared_error: 17848.5862\n",
      "Epoch 359/500\n",
      "43743/43743 [==============================] - 1s 18us/step - loss: 17687.4758 - mean_squared_error: 17687.4758\n",
      "Epoch 360/500\n",
      "43743/43743 [==============================] - 1s 18us/step - loss: 17976.1347 - mean_squared_error: 17976.1347 0s - loss: 18017.1518 - mean_squared_error: 18017.\n",
      "Epoch 361/500\n",
      "43743/43743 [==============================] - 1s 18us/step - loss: 17937.5973 - mean_squared_error: 17937.5973\n",
      "Epoch 362/500\n",
      "43743/43743 [==============================] - 1s 18us/step - loss: 18276.7959 - mean_squared_error: 18276.7959\n",
      "Epoch 363/500\n",
      "43743/43743 [==============================] - 1s 18us/step - loss: 17688.2413 - mean_squared_error: 17688.2413\n",
      "Epoch 364/500\n",
      "43743/43743 [==============================] - 1s 19us/step - loss: 17998.5130 - mean_squared_error: 17998.5130\n",
      "Epoch 365/500\n",
      "43743/43743 [==============================] - 1s 19us/step - loss: 18154.4595 - mean_squared_error: 18154.4595\n",
      "Epoch 366/500\n",
      "43743/43743 [==============================] - 1s 18us/step - loss: 17777.7156 - mean_squared_error: 17777.7156\n",
      "Epoch 367/500\n",
      "43743/43743 [==============================] - 1s 18us/step - loss: 17839.1609 - mean_squared_error: 17839.1609\n",
      "Epoch 368/500\n",
      "43743/43743 [==============================] - 1s 18us/step - loss: 17838.8601 - mean_squared_error: 17838.8601\n",
      "Epoch 369/500\n",
      "43743/43743 [==============================] - 1s 18us/step - loss: 18016.6615 - mean_squared_error: 18016.6615\n",
      "Epoch 370/500\n",
      "43743/43743 [==============================] - 1s 18us/step - loss: 18110.3438 - mean_squared_error: 18110.3438\n",
      "Epoch 371/500\n",
      "43743/43743 [==============================] - 1s 18us/step - loss: 17933.9987 - mean_squared_error: 17933.9987\n",
      "Epoch 372/500\n",
      "43743/43743 [==============================] - 1s 18us/step - loss: 18027.3609 - mean_squared_error: 18027.3609\n",
      "Epoch 373/500\n",
      "43743/43743 [==============================] - 1s 18us/step - loss: 17978.0817 - mean_squared_error: 17978.0817\n",
      "Epoch 374/500\n",
      "43743/43743 [==============================] - 1s 18us/step - loss: 17853.6022 - mean_squared_error: 17853.6022\n",
      "Epoch 375/500\n",
      "43743/43743 [==============================] - 1s 18us/step - loss: 17673.9274 - mean_squared_error: 17673.9274\n",
      "Epoch 376/500\n",
      "43743/43743 [==============================] - 1s 18us/step - loss: 18071.5618 - mean_squared_error: 18071.5618\n",
      "Epoch 377/500\n",
      "43743/43743 [==============================] - 1s 18us/step - loss: 17672.6665 - mean_squared_error: 17672.6665\n",
      "Epoch 378/500\n",
      "43743/43743 [==============================] - 1s 18us/step - loss: 17770.2180 - mean_squared_error: 17770.2180\n",
      "Epoch 379/500\n",
      "43743/43743 [==============================] - 1s 18us/step - loss: 17872.1653 - mean_squared_error: 17872.1653\n",
      "Epoch 380/500\n",
      "43743/43743 [==============================] - 1s 18us/step - loss: 18218.4540 - mean_squared_error: 18218.4540\n",
      "Epoch 381/500\n",
      "43743/43743 [==============================] - 1s 18us/step - loss: 17700.8465 - mean_squared_error: 17700.8465\n",
      "Epoch 382/500\n",
      "43743/43743 [==============================] - 1s 18us/step - loss: 17766.7840 - mean_squared_error: 17766.7840\n",
      "Epoch 383/500\n",
      "43743/43743 [==============================] - 1s 18us/step - loss: 18077.7869 - mean_squared_error: 18077.7869\n",
      "Epoch 384/500\n",
      "43743/43743 [==============================] - 1s 18us/step - loss: 18440.7744 - mean_squared_error: 18440.7744\n",
      "Epoch 385/500\n",
      "43743/43743 [==============================] - 1s 19us/step - loss: 18084.7843 - mean_squared_error: 18084.7843\n",
      "Epoch 386/500\n",
      "43743/43743 [==============================] - 1s 18us/step - loss: 17952.1719 - mean_squared_error: 17952.1719\n",
      "Epoch 387/500\n"
     ]
    },
    {
     "name": "stdout",
     "output_type": "stream",
     "text": [
      "43743/43743 [==============================] - 1s 18us/step - loss: 17974.4911 - mean_squared_error: 17974.4911\n",
      "Epoch 388/500\n",
      "43743/43743 [==============================] - 1s 18us/step - loss: 17927.9728 - mean_squared_error: 17927.9728\n",
      "Epoch 389/500\n",
      "43743/43743 [==============================] - 1s 18us/step - loss: 17639.9024 - mean_squared_error: 17639.9024\n",
      "Epoch 390/500\n",
      "43743/43743 [==============================] - 1s 18us/step - loss: 17681.6525 - mean_squared_error: 17681.6525\n",
      "Epoch 391/500\n",
      "43743/43743 [==============================] - 1s 18us/step - loss: 17787.8570 - mean_squared_error: 17787.8570\n",
      "Epoch 392/500\n",
      "43743/43743 [==============================] - 1s 18us/step - loss: 17856.1038 - mean_squared_error: 17856.1038\n",
      "Epoch 393/500\n",
      "43743/43743 [==============================] - 1s 18us/step - loss: 17671.5218 - mean_squared_error: 17671.5218\n",
      "Epoch 394/500\n",
      "43743/43743 [==============================] - 1s 18us/step - loss: 18362.2612 - mean_squared_error: 18362.2612\n",
      "Epoch 395/500\n",
      "43743/43743 [==============================] - 1s 18us/step - loss: 17906.6039 - mean_squared_error: 17906.6039\n",
      "Epoch 396/500\n",
      "43743/43743 [==============================] - 1s 18us/step - loss: 17765.4241 - mean_squared_error: 17765.4241\n",
      "Epoch 397/500\n",
      "43743/43743 [==============================] - 1s 18us/step - loss: 17569.3025 - mean_squared_error: 17569.3025\n",
      "Epoch 398/500\n",
      "43743/43743 [==============================] - 1s 18us/step - loss: 17821.5564 - mean_squared_error: 17821.5564\n",
      "Epoch 399/500\n",
      "43743/43743 [==============================] - 1s 18us/step - loss: 17771.0626 - mean_squared_error: 17771.0626\n",
      "Epoch 400/500\n",
      "43743/43743 [==============================] - 1s 18us/step - loss: 17621.9210 - mean_squared_error: 17621.9210\n",
      "Epoch 401/500\n",
      "43743/43743 [==============================] - 1s 19us/step - loss: 17929.0713 - mean_squared_error: 17929.0713\n",
      "Epoch 402/500\n",
      "43743/43743 [==============================] - 1s 19us/step - loss: 17544.5356 - mean_squared_error: 17544.5356\n",
      "Epoch 403/500\n",
      "43743/43743 [==============================] - 1s 19us/step - loss: 17901.1917 - mean_squared_error: 17901.1917\n",
      "Epoch 404/500\n",
      "43743/43743 [==============================] - 1s 20us/step - loss: 17876.4203 - mean_squared_error: 17876.4203\n",
      "Epoch 405/500\n",
      "43743/43743 [==============================] - 1s 20us/step - loss: 17607.2481 - mean_squared_error: 17607.2481\n",
      "Epoch 406/500\n",
      "43743/43743 [==============================] - 1s 19us/step - loss: 18062.1337 - mean_squared_error: 18062.1337\n",
      "Epoch 407/500\n",
      "43743/43743 [==============================] - 1s 19us/step - loss: 17820.6739 - mean_squared_error: 17820.6739\n",
      "Epoch 408/500\n",
      "43743/43743 [==============================] - 1s 19us/step - loss: 18177.8489 - mean_squared_error: 18177.8489\n",
      "Epoch 409/500\n",
      "43743/43743 [==============================] - 1s 18us/step - loss: 17662.9677 - mean_squared_error: 17662.9677\n",
      "Epoch 410/500\n",
      "43743/43743 [==============================] - 1s 18us/step - loss: 17931.1615 - mean_squared_error: 17931.1615\n",
      "Epoch 411/500\n",
      "43743/43743 [==============================] - 1s 18us/step - loss: 17623.5055 - mean_squared_error: 17623.5055\n",
      "Epoch 412/500\n",
      "43743/43743 [==============================] - 1s 18us/step - loss: 17802.3953 - mean_squared_error: 17802.3953\n",
      "Epoch 413/500\n",
      "43743/43743 [==============================] - 1s 18us/step - loss: 17786.3260 - mean_squared_error: 17786.3260\n",
      "Epoch 414/500\n",
      "43743/43743 [==============================] - 1s 18us/step - loss: 18032.8208 - mean_squared_error: 18032.8208\n",
      "Epoch 415/500\n",
      "43743/43743 [==============================] - 1s 18us/step - loss: 18091.0435 - mean_squared_error: 18091.0435\n",
      "Epoch 416/500\n",
      "43743/43743 [==============================] - 1s 18us/step - loss: 17981.4287 - mean_squared_error: 17981.4287\n",
      "Epoch 417/500\n",
      "43743/43743 [==============================] - 1s 18us/step - loss: 17789.1283 - mean_squared_error: 17789.1283\n",
      "Epoch 418/500\n",
      "43743/43743 [==============================] - 1s 18us/step - loss: 17355.2356 - mean_squared_error: 17355.2356\n",
      "Epoch 419/500\n",
      "43743/43743 [==============================] - 1s 18us/step - loss: 18187.2207 - mean_squared_error: 18187.2207\n",
      "Epoch 420/500\n",
      "43743/43743 [==============================] - 1s 18us/step - loss: 17752.6359 - mean_squared_error: 17752.6359\n",
      "Epoch 421/500\n",
      "43743/43743 [==============================] - 1s 18us/step - loss: 17668.2413 - mean_squared_error: 17668.2413\n",
      "Epoch 422/500\n",
      "43743/43743 [==============================] - 1s 18us/step - loss: 17684.4348 - mean_squared_error: 17684.4348\n",
      "Epoch 423/500\n",
      "43743/43743 [==============================] - 1s 18us/step - loss: 17609.7523 - mean_squared_error: 17609.7523\n",
      "Epoch 424/500\n",
      "43743/43743 [==============================] - 1s 19us/step - loss: 18027.6817 - mean_squared_error: 18027.6817\n",
      "Epoch 425/500\n",
      "43743/43743 [==============================] - 1s 19us/step - loss: 17355.7256 - mean_squared_error: 17355.7256\n",
      "Epoch 426/500\n",
      "43743/43743 [==============================] - 1s 18us/step - loss: 17710.4566 - mean_squared_error: 17710.4566\n",
      "Epoch 427/500\n",
      "43743/43743 [==============================] - 1s 18us/step - loss: 17748.2180 - mean_squared_error: 17748.2180\n",
      "Epoch 428/500\n",
      "43743/43743 [==============================] - 1s 18us/step - loss: 17755.8844 - mean_squared_error: 17755.8844\n",
      "Epoch 429/500\n",
      "43743/43743 [==============================] - 1s 18us/step - loss: 18196.7687 - mean_squared_error: 18196.7687\n",
      "Epoch 430/500\n",
      "43743/43743 [==============================] - 1s 18us/step - loss: 17931.1300 - mean_squared_error: 17931.1300\n",
      "Epoch 431/500\n",
      "43743/43743 [==============================] - 1s 18us/step - loss: 17528.2167 - mean_squared_error: 17528.2167\n",
      "Epoch 432/500\n",
      "43743/43743 [==============================] - 1s 18us/step - loss: 17718.5419 - mean_squared_error: 17718.5419\n",
      "Epoch 433/500\n",
      "43743/43743 [==============================] - 1s 18us/step - loss: 17661.8649 - mean_squared_error: 17661.8649\n",
      "Epoch 434/500\n",
      "43743/43743 [==============================] - 1s 18us/step - loss: 17663.1586 - mean_squared_error: 17663.1586\n",
      "Epoch 435/500\n",
      "43743/43743 [==============================] - 1s 18us/step - loss: 18049.9041 - mean_squared_error: 18049.9041\n",
      "Epoch 436/500\n",
      "43743/43743 [==============================] - 1s 18us/step - loss: 18121.1748 - mean_squared_error: 18121.1748\n",
      "Epoch 437/500\n",
      "43743/43743 [==============================] - 1s 18us/step - loss: 17967.5298 - mean_squared_error: 17967.5298\n",
      "Epoch 438/500\n",
      "43743/43743 [==============================] - 1s 17us/step - loss: 17737.0421 - mean_squared_error: 17737.0421\n",
      "Epoch 439/500\n",
      "43743/43743 [==============================] - 1s 18us/step - loss: 17281.1367 - mean_squared_error: 17281.1367\n",
      "Epoch 440/500\n",
      "43743/43743 [==============================] - 1s 18us/step - loss: 17571.8556 - mean_squared_error: 17571.8556\n",
      "Epoch 441/500\n",
      "43743/43743 [==============================] - 1s 18us/step - loss: 17586.5490 - mean_squared_error: 17586.5490\n",
      "Epoch 442/500\n",
      "43743/43743 [==============================] - 1s 18us/step - loss: 17735.5216 - mean_squared_error: 17735.5216\n",
      "Epoch 443/500\n",
      "43743/43743 [==============================] - 1s 18us/step - loss: 17703.3246 - mean_squared_error: 17703.3246\n",
      "Epoch 444/500\n",
      "43743/43743 [==============================] - 1s 18us/step - loss: 18058.1987 - mean_squared_error: 18058.1987\n",
      "Epoch 445/500\n",
      "43743/43743 [==============================] - 1s 19us/step - loss: 17413.8713 - mean_squared_error: 17413.8713\n",
      "Epoch 446/500\n",
      "43743/43743 [==============================] - 1s 18us/step - loss: 17544.1004 - mean_squared_error: 17544.1004\n",
      "Epoch 447/500\n",
      "43743/43743 [==============================] - 1s 18us/step - loss: 17740.0532 - mean_squared_error: 17740.0532\n",
      "Epoch 448/500\n",
      "43743/43743 [==============================] - 1s 18us/step - loss: 17630.7135 - mean_squared_error: 17630.7135\n",
      "Epoch 449/500\n",
      "43743/43743 [==============================] - 1s 18us/step - loss: 17709.2158 - mean_squared_error: 17709.2158\n",
      "Epoch 450/500\n",
      "43743/43743 [==============================] - 1s 18us/step - loss: 17883.6586 - mean_squared_error: 17883.6586\n",
      "Epoch 451/500\n",
      "43743/43743 [==============================] - 1s 18us/step - loss: 17755.3271 - mean_squared_error: 17755.3271\n",
      "Epoch 452/500\n",
      "43743/43743 [==============================] - 1s 18us/step - loss: 17544.3827 - mean_squared_error: 17544.3827\n",
      "Epoch 453/500\n",
      "43743/43743 [==============================] - 1s 18us/step - loss: 17757.3593 - mean_squared_error: 17757.3593\n",
      "Epoch 454/500\n",
      "43743/43743 [==============================] - 1s 18us/step - loss: 17623.5830 - mean_squared_error: 17623.5830\n",
      "Epoch 455/500\n",
      "43743/43743 [==============================] - 1s 18us/step - loss: 17872.0039 - mean_squared_error: 17872.0039\n",
      "Epoch 456/500\n",
      "43743/43743 [==============================] - 1s 18us/step - loss: 17618.0741 - mean_squared_error: 17618.0741\n",
      "Epoch 457/500\n",
      "43743/43743 [==============================] - 1s 18us/step - loss: 17802.7111 - mean_squared_error: 17802.7111\n",
      "Epoch 458/500\n",
      "43743/43743 [==============================] - 1s 18us/step - loss: 17472.5416 - mean_squared_error: 17472.5416\n",
      "Epoch 459/500\n",
      "43743/43743 [==============================] - 1s 18us/step - loss: 17986.6405 - mean_squared_error: 17986.6405\n",
      "Epoch 460/500\n",
      "43743/43743 [==============================] - 1s 18us/step - loss: 17745.7190 - mean_squared_error: 17745.7190\n",
      "Epoch 461/500\n",
      "43743/43743 [==============================] - 1s 18us/step - loss: 17987.3142 - mean_squared_error: 17987.3142\n",
      "Epoch 462/500\n",
      "43743/43743 [==============================] - 1s 18us/step - loss: 17632.1793 - mean_squared_error: 17632.1793\n",
      "Epoch 463/500\n",
      "43743/43743 [==============================] - 1s 18us/step - loss: 17522.4495 - mean_squared_error: 17522.4495\n",
      "Epoch 464/500\n",
      "43743/43743 [==============================] - 1s 18us/step - loss: 17548.8048 - mean_squared_error: 17548.8048\n",
      "Epoch 465/500\n",
      "43743/43743 [==============================] - 1s 19us/step - loss: 17229.0109 - mean_squared_error: 17229.0109\n",
      "Epoch 466/500\n",
      "43743/43743 [==============================] - 1s 19us/step - loss: 17478.5826 - mean_squared_error: 17478.5826\n",
      "Epoch 467/500\n",
      "43743/43743 [==============================] - 1s 18us/step - loss: 17385.7218 - mean_squared_error: 17385.7218\n",
      "Epoch 468/500\n",
      "43743/43743 [==============================] - 1s 18us/step - loss: 18139.1934 - mean_squared_error: 18139.1934\n",
      "Epoch 469/500\n",
      "43743/43743 [==============================] - 1s 18us/step - loss: 17919.8370 - mean_squared_error: 17919.8370\n",
      "Epoch 470/500\n",
      "43743/43743 [==============================] - 1s 18us/step - loss: 17574.7653 - mean_squared_error: 17574.7653\n",
      "Epoch 471/500\n",
      "43743/43743 [==============================] - 1s 18us/step - loss: 17538.9204 - mean_squared_error: 17538.9204\n",
      "Epoch 472/500\n",
      "43743/43743 [==============================] - 1s 18us/step - loss: 18028.9405 - mean_squared_error: 18028.9405\n",
      "Epoch 473/500\n",
      "43743/43743 [==============================] - 1s 18us/step - loss: 17671.6436 - mean_squared_error: 17671.6436\n",
      "Epoch 474/500\n",
      "43743/43743 [==============================] - 1s 18us/step - loss: 17795.9093 - mean_squared_error: 17795.9093\n",
      "Epoch 475/500\n",
      "43743/43743 [==============================] - 1s 18us/step - loss: 17317.4314 - mean_squared_error: 17317.4314\n",
      "Epoch 476/500\n",
      "43743/43743 [==============================] - 1s 18us/step - loss: 17487.7277 - mean_squared_error: 17487.7277\n",
      "Epoch 477/500\n",
      "43743/43743 [==============================] - 1s 18us/step - loss: 17439.2850 - mean_squared_error: 17439.2850\n",
      "Epoch 478/500\n",
      "43743/43743 [==============================] - 1s 18us/step - loss: 17975.6357 - mean_squared_error: 17975.6357\n",
      "Epoch 479/500\n",
      "43743/43743 [==============================] - 1s 18us/step - loss: 17726.1460 - mean_squared_error: 17726.1460\n",
      "Epoch 480/500\n",
      "43743/43743 [==============================] - 1s 19us/step - loss: 17516.5388 - mean_squared_error: 17516.5388\n",
      "Epoch 481/500\n",
      "43743/43743 [==============================] - 1s 18us/step - loss: 17736.3424 - mean_squared_error: 17736.3424\n",
      "Epoch 482/500\n",
      "43743/43743 [==============================] - 1s 18us/step - loss: 17503.7284 - mean_squared_error: 17503.7284\n",
      "Epoch 483/500\n",
      "43743/43743 [==============================] - 1s 18us/step - loss: 17519.2349 - mean_squared_error: 17519.2349\n",
      "Epoch 484/500\n",
      "43743/43743 [==============================] - 1s 18us/step - loss: 17806.1274 - mean_squared_error: 17806.1274\n",
      "Epoch 485/500\n",
      "43743/43743 [==============================] - 1s 19us/step - loss: 17809.3725 - mean_squared_error: 17809.3725\n",
      "Epoch 486/500\n",
      "43743/43743 [==============================] - 1s 20us/step - loss: 17784.4713 - mean_squared_error: 17784.4713\n",
      "Epoch 487/500\n",
      "43743/43743 [==============================] - 1s 19us/step - loss: 17813.0982 - mean_squared_error: 17813.0982\n",
      "Epoch 488/500\n",
      "43743/43743 [==============================] - 1s 19us/step - loss: 17732.3485 - mean_squared_error: 17732.3485\n",
      "Epoch 489/500\n",
      "43743/43743 [==============================] - 1s 19us/step - loss: 17629.4021 - mean_squared_error: 17629.4021\n",
      "Epoch 490/500\n",
      "43743/43743 [==============================] - 1s 18us/step - loss: 17903.2442 - mean_squared_error: 17903.2442\n",
      "Epoch 491/500\n",
      "43743/43743 [==============================] - 1s 18us/step - loss: 17599.2339 - mean_squared_error: 17599.2339\n",
      "Epoch 492/500\n",
      "43743/43743 [==============================] - 1s 18us/step - loss: 17507.0367 - mean_squared_error: 17507.0367\n",
      "Epoch 493/500\n",
      "43743/43743 [==============================] - 1s 18us/step - loss: 17484.2126 - mean_squared_error: 17484.2126\n",
      "Epoch 494/500\n",
      "43743/43743 [==============================] - 1s 19us/step - loss: 17685.4375 - mean_squared_error: 17685.4375\n",
      "Epoch 495/500\n",
      "43743/43743 [==============================] - 1s 19us/step - loss: 17576.2178 - mean_squared_error: 17576.2178\n",
      "Epoch 496/500\n",
      "43743/43743 [==============================] - 1s 19us/step - loss: 17267.5538 - mean_squared_error: 17267.5538\n",
      "Epoch 497/500\n",
      "43743/43743 [==============================] - 1s 19us/step - loss: 17382.1032 - mean_squared_error: 17382.1032\n",
      "Epoch 498/500\n",
      "43743/43743 [==============================] - 1s 19us/step - loss: 17832.4238 - mean_squared_error: 17832.4238\n",
      "Epoch 499/500\n",
      "43743/43743 [==============================] - 1s 18us/step - loss: 17378.2015 - mean_squared_error: 17378.2015\n",
      "Epoch 500/500\n",
      "43743/43743 [==============================] - 1s 18us/step - loss: 17670.3340 - mean_squared_error: 17670.3340\n"
     ]
    },
    {
     "data": {
      "text/plain": [
       "<keras.callbacks.History at 0x285a6af9c88>"
      ]
     },
     "execution_count": 49,
     "metadata": {},
     "output_type": "execute_result"
    }
   ],
   "source": [
    "model.fit(X_train, y_train, epochs = 500, batch_size = 150)"
   ]
  },
  {
   "cell_type": "code",
   "execution_count": 50,
   "metadata": {},
   "outputs": [
    {
     "name": "stdout",
     "output_type": "stream",
     "text": [
      "14582/14582 [==============================] - 0s 28us/step\n"
     ]
    },
    {
     "data": {
      "text/plain": [
       "[14309.760990262637, 14309.760990262637]"
      ]
     },
     "execution_count": 50,
     "metadata": {},
     "output_type": "execute_result"
    }
   ],
   "source": [
    "model.evaluate(X_test, y_test)"
   ]
  },
  {
   "cell_type": "code",
   "execution_count": 51,
   "metadata": {},
   "outputs": [
    {
     "name": "stdout",
     "output_type": "stream",
     "text": [
      "Train score: 0.96\n",
      "Test score: 0.96\n"
     ]
    }
   ],
   "source": [
    "from sklearn.metrics import r2_score\n",
    "\n",
    "y_train_predict = model.predict(X_train)\n",
    "y_test_predict = model.predict(X_test)\n",
    "\n",
    "print('Train score: {:.2f}'.format(r2_score(y_train, y_train_predict)))\n",
    "print('Test score: {:.2f}'.format(r2_score(y_test, y_test_predict)))"
   ]
  }
 ],
 "metadata": {
  "kernelspec": {
   "display_name": "Python 3",
   "language": "python",
   "name": "python3"
  },
  "language_info": {
   "codemirror_mode": {
    "name": "ipython",
    "version": 3
   },
   "file_extension": ".py",
   "mimetype": "text/x-python",
   "name": "python",
   "nbconvert_exporter": "python",
   "pygments_lexer": "ipython3",
   "version": "3.6.7"
  }
 },
 "nbformat": 4,
 "nbformat_minor": 2
}
